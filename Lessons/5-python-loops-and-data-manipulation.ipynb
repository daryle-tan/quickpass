{
 "cells": [
  {
   "cell_type": "markdown",
   "metadata": {},
   "source": [
    "# Python Loops and Data <a id=\"title\"></a>\n",
    "\n",
    "## Introduction\n",
    "\n",
    "Welcome to Day 6 of QuickPass! Today, we'll explore loops, a fundamental concept in programming, and dive into a bit of data manipulation (moving data around, presenting data in different ways, and changing data types from one form to another). Loops allow us to perform repetitive tasks, and allow us to methodically work with data without repeating code. Let's get started!"
   ]
  },
  {
   "cell_type": "markdown",
   "metadata": {},
   "source": [
    "## Table of Contents\n",
    "\n",
    "- [Python Loops and Data manipulation](#title)\n",
    "  - [Introduction](#introduction)\n",
    "  - [Table of Contents](#table-of-contents)\n",
    "    - [Loops](#loops)\n",
    "      - [for i in x (for element in iterable)](#for-i-in-x)\n",
    "      - [for i in range (for i in range(start, stop, step))](#b-for-i-in-range)\n",
    "      - [for idx, item in enumerate(iterable)](#enumerate)\n",
    "      - [for key, value in dict.items()](#k-v-loop)\n",
    "      - [When to Choose](#when-to-choose)\n",
    "      - [while Loop](#f-while-loop)\n",
    "      - [Break and Continue](#break-and-continue)\n",
    "    - [Loops with Data Structures](#2-loops-with-data-structures)\n",
    "      - [Strings](#strings)\n",
    "      - [Lists](#lists)\n",
    "      - [Tuples](#tuples)\n",
    "      - [Dictionaries](#dictionaries)\n",
    "    - [Nesting Loops](#nesting-loops)\n",
    "    - [Data Manipulation](#data-manipulation)\n",
    "      - [Data Presentation](#data-presentation)\n",
    "      - [Data Manipulation Exercises](#data-manipulation-exercises)\n",
    "    - [Conclusion](#conclusion)\n",
    "    - [Assignments](#assignments)"
   ]
  },
  {
   "cell_type": "markdown",
   "metadata": {},
   "source": [
    "### Loops\n",
    "\n",
    "* [Python: The for statement](https://docs.python.org/3/tutorial/controlflow.html#for-statements)\n",
    "\n",
    "The power of computation is the ability to do a lot of actions very quickly. Imagine you have thousands of data points to analyze. First, you write some `if` statements to intelligently parse, cleanse, and account for the data, perhaps looking at some individual data points as examples to guide you. Now you have a script that works. But how do you actually execute your code on each data point in the set?\n",
    "\n",
    "Python makes iterating, or looping, through a collection of data points easy and intuitive. Python has a statement called a `for` loop that steps through a data collection, and allows you to execute code on its individual elements. A `for` loop allows us to, for example, run a set of `if` blocks on each of the data points in a large data set.\n",
    "\n",
    "A basic `for` loop will have this structure:\n",
    "\n",
    "```python\n",
    "for item in collection:  # \"item\" is a temporary variable that is assigned on each iteration of the loop\n",
    "    do_something()\n",
    "```\n"
   ]
  },
  {
   "cell_type": "markdown",
   "metadata": {},
   "source": [
    "Loops are used to execute a block of code repeatedly. That is what the `do_something()` represents in the example above. \n",
    "\n",
    "Here are examples of different types of `for` loops in Python along with explanations for their use cases:"
   ]
  },
  {
   "cell_type": "markdown",
   "metadata": {},
   "source": [
    "#### `for i in x` (for element in iterable) <a id=\"for-i-in-x\"></a>"
   ]
  },
  {
   "cell_type": "code",
   "execution_count": 1,
   "metadata": {},
   "outputs": [
    {
     "name": "stdout",
     "output_type": "stream",
     "text": [
      "Other site: www.nike.com\n",
      "Social Media site: www.reddit.com\n",
      "Other site: www.cnn.com\n",
      "Computer site: www.dell.com\n",
      "Computer site: www.apple.com\n",
      "Social Media site: www.facebook.com\n"
     ]
    }
   ],
   "source": [
    "urls = [\"www.nike.com\", \"www.reddit.com\", \"www.cnn.com\", \"www.dell.com\", \"www.apple.com\", \"www.facebook.com\"]\n",
    "\n",
    "for url in urls:\n",
    "    if \"apple\" in url or \"dell\" in url:\n",
    "        print(f\"Computer site: {url}\")\n",
    "    elif \"reddit\" in url or \"facebook\" in url:\n",
    "        print(f\"Social Media site: {url}\")\n",
    "    else:\n",
    "        print(f\"Other site: {url}\")\n"
   ]
  },
  {
   "cell_type": "markdown",
   "metadata": {},
   "source": [
    "**Use Case:** This loop iterates through the elements of a list or any iterable. It's suitable when you want to perform the same operation for each item in the iterable. In this case, it's using conditional logic to print each website URL and category of site."
   ]
  },
  {
   "cell_type": "markdown",
   "metadata": {},
   "source": [
    "#### `for i in range(start, stop, step)` <a id=\"for-i-in-range\"></a>\n",
    "\n",
    "This type of loop is useful when you want to contol the number of iterations (and even _how_ its iterating).  The `range()` method is quite customizable to loop in various ways.\n",
    "\n",
    "| Arguemnt               | Description                               |\n",
    "|:----------------------:|-------------------------------------------|\n",
    "|start (optional)| integer starting from which the sequence of integers is to be returned.  Defaults to `0`|\n",
    "|stop| integer before which the sequence of integers is to be returned. The range of integers end at stop – 1.|\n",
    "|step (optional)| integer value which determines the increment between each integer in the .  Defaults to `1`|\n"
   ]
  },
  {
   "cell_type": "code",
   "execution_count": 47,
   "metadata": {},
   "outputs": [
    {
     "name": "stdout",
     "output_type": "stream",
     "text": [
      "0\n",
      "2\n",
      "4\n",
      "6\n",
      "8\n",
      "10\n",
      "12\n",
      "14\n",
      "16\n",
      "18\n"
     ]
    }
   ],
   "source": [
    "for i in range(0, 20, 2):\n",
    "    print(i)"
   ]
  },
  {
   "cell_type": "markdown",
   "metadata": {},
   "source": [
    "**Use Case:** The `for i in range` loop is used when you need to iterate a specific number of times, often with a loop counter (`i`) that increments by a constant value (`step`). It's useful for tasks where you need to control the number of iterations and when you don't necessarily need to access elements in a collection."
   ]
  },
  {
   "cell_type": "markdown",
   "metadata": {},
   "source": [
    "#### `for idx, item in enumerate(iterable)` <a id=\"enumerate\"></a>\n"
   ]
  },
  {
   "cell_type": "code",
   "execution_count": 31,
   "metadata": {},
   "outputs": [
    {
     "name": "stdout",
     "output_type": "stream",
     "text": [
      "Index 0: Bananas\n",
      "Index 1: Apples\n",
      "Index 2: Cherries\n"
     ]
    }
   ],
   "source": [
    "fruits = [\"Bananas\", \"Apples\", \"Cherries\"]\n",
    "for index, fruit in enumerate(fruits):\n",
    "    print(f\"Index {index}: {fruit}\")"
   ]
  },
  {
   "cell_type": "markdown",
   "metadata": {},
   "source": [
    "**Use Case:** The `for idx, item in enumerate` loop allows you to access both the elements and their indices within an iterable. This is helpful when you need to keep track of the position of each element in the collection."
   ]
  },
  {
   "cell_type": "markdown",
   "metadata": {},
   "source": [
    "#### for key, value in dict.items() <a id=\"k-v-loop\"></a>"
   ]
  },
  {
   "cell_type": "code",
   "execution_count": 48,
   "metadata": {},
   "outputs": [
    {
     "name": "stdout",
     "output_type": "stream",
     "text": [
      "Francisco's phone number is 555-555-5555\n",
      "Alex's phone number is 222-222-2222\n",
      "Allison's phone number is 111-111-1111\n"
     ]
    }
   ],
   "source": [
    "phones = {\"Francisco\": \"555-555-5555\", \"Alex\": \"222-222-2222\", \"Allison\": \"111-111-1111\"}\n",
    "for name, number in phones.items():\n",
    "    print(f\"{name}'s phone number is {number}\")"
   ]
  },
  {
   "cell_type": "markdown",
   "metadata": {},
   "source": [
    "**Use Case:** The `for key, value in dict.items()` loop is used to iterate through the key-value pairs in a dictionary. It's beneficial when you need to work with both keys and values from a dictionary simultaneously."
   ]
  },
  {
   "cell_type": "markdown",
   "metadata": {},
   "source": [
    "#### When to Choose\n",
    "\n",
    "| Syntax               | Use Case                              |\n",
    "|:----------------------:|-------------------------------------------|\n",
    "|`for i in x`| when you want to iterate through the elements of a collection|\n",
    "|`for i in range`| when you need a loop with a specific number of iterations|\n",
    "|`for idx, item in enumerate`| when you need to access both elements and their indices within an iterable|\n",
    "|`for key, value in dict.items()`| when working with key-value pairs in a dictionary|\n",
    "\n",
    "Choose the appropriate `for` loop based on your specific task and what you need to achieve in your code. Each type of loop serves a different purpose and offers advantages depending on the situation."
   ]
  },
  {
   "cell_type": "markdown",
   "metadata": {},
   "source": [
    "#### `While` Loop <a id=\"while-loop\"></a>\n",
    "\n",
    "The `while` loop repeatedly executes a block of code as long the condition being evaluated at each iteration is `True`.  Take a look at the example below.  When the file size is created, we don't know how big it will be but we want the loop to run until the progress is equal to the file_size. A while loop can satisfy this requirement by checking of the progress is less than the file size on each iteration.\n",
    "\n",
    "_Be careful with while loops. You can easily start an infinite loop with a typo_\n"
   ]
  },
  {
   "cell_type": "code",
   "execution_count": 49,
   "metadata": {},
   "outputs": [
    {
     "name": "stdout",
     "output_type": "stream",
     "text": [
      "18956076\n",
      "file is 50% full...\n",
      "file is 75% full...\n",
      "done writing.\n"
     ]
    }
   ],
   "source": [
    "import random\n",
    "\n",
    "file_size = random.randint(1000000, 20000000)\n",
    "progress = 0\n",
    "\n",
    "print(file_size )\n",
    "while progress < file_size:\n",
    "    progress += 1\n",
    "\n",
    "    if progress == round(file_size/2):\n",
    "        print('file is 50% full...')\n",
    "    \n",
    "    if progress == round(file_size * 0.75):\n",
    "        print('file is 75% full...')\n",
    "\n",
    "        \n",
    "print('done writing.')"
   ]
  },
  {
   "cell_type": "markdown",
   "metadata": {},
   "source": [
    "Concerning the risk for infinite loops, what would happen if we accidentally decremented `file_size`?"
   ]
  },
  {
   "cell_type": "markdown",
   "metadata": {},
   "source": [
    "#### `Break` and `Continue` <a id=\"break-and-continue\"></a>\n",
    "\n",
    "* [TutorialsPoint: Python break, continue and pass Statements](https://www.tutorialspoint.com/python/python_loop_control.htm)\n",
    "\n",
    "The `break` statement terminates the first `for` or `while` loop it is nested under. Programmers sometimes put a `break` statement in `while` loops they are developing to make sure they don't run infinitely. But `break` statements are useful in other cases too, such as terminating a `for` loop if a certain condition is met."
   ]
  },
  {
   "cell_type": "code",
   "execution_count": 56,
   "metadata": {},
   "outputs": [
    {
     "name": "stdout",
     "output_type": "stream",
     "text": [
      "Aaron gets a cookie.\n",
      "Nick gets a cookie.\n",
      "Rod gets a cookie.\n",
      "Chad gets a cookie.\n",
      "Francisco gets a cookie.\n",
      "Adam gets a cookie.\n",
      "Tish gets a cookie.\n",
      "Tom gets a cookie.\n",
      "Guillermo gets a cookie.\n",
      "Out of cookies!  Better luck next time!!\n"
     ]
    }
   ],
   "source": [
    "cookies = 9\n",
    "\n",
    "students = ['Aaron', \"Nick\", \"Rod\", \"Chad\", \"Francisco\", \"Adam\", \"Tish\", \"Tom\", \"Guillermo\", \"Kevin\", \"Greg\"]\n",
    "\n",
    "for student in students:\n",
    "    if cookies > 0:\n",
    "        print(f\"{student} gets a cookie.\")\n",
    "        cookies -= 1\n",
    "    else:\n",
    "        print(\"Out of cookies!  Better luck next time!!\")\n",
    "        break"
   ]
  },
  {
   "cell_type": "markdown",
   "metadata": {},
   "source": [
    "The `continue` statement is primarily used to skip items in a collection when a certain condition is met."
   ]
  },
  {
   "cell_type": "code",
   "execution_count": 57,
   "metadata": {},
   "outputs": [
    {
     "name": "stdout",
     "output_type": "stream",
     "text": [
      "961093\n",
      "7794554\n",
      "451762\n",
      "8236202\n",
      "94345513\n",
      "3426551\n",
      "686835\n",
      "9587523\n",
      "6381456\n",
      "27234472\n",
      "9886119\n"
     ]
    }
   ],
   "source": [
    "all_ids = ['961093', '7794554', '451762', '8236202', '94345513', '3426551', \n",
    "           '686835', '9994554', '9587523', '6381456', '27234472', '9886119']\n",
    "\n",
    "for id in all_ids:\n",
    "    \n",
    "    if '999' in id:\n",
    "        continue\n",
    "        \n",
    "    print(id)"
   ]
  },
  {
   "cell_type": "markdown",
   "metadata": {},
   "source": [
    "### Loops with Data Structures\n",
    "\n",
    "Let's explore how loops can be used with various data structures."
   ]
  },
  {
   "cell_type": "markdown",
   "metadata": {},
   "source": [
    "#### Strings\n",
    "\n",
    "Strings are an interable data structure. You can loop through characters in a string using a `for-in` loop."
   ]
  },
  {
   "cell_type": "code",
   "execution_count": 58,
   "metadata": {},
   "outputs": [
    {
     "name": "stdout",
     "output_type": "stream",
     "text": [
      "H\n",
      "e\n",
      "l\n",
      "l\n",
      "o\n",
      ",\n",
      " \n",
      "W\n",
      "o\n",
      "r\n",
      "l\n",
      "d\n",
      "!\n"
     ]
    }
   ],
   "source": [
    "text = \"Hello, World!\"\n",
    "for char in text:\n",
    "    print(char)"
   ]
  },
  {
   "cell_type": "markdown",
   "metadata": {},
   "source": [
    "#### Lists\n",
    "\n",
    "Loops are often used to iterate through the elements of a list."
   ]
  },
  {
   "cell_type": "code",
   "execution_count": 73,
   "metadata": {},
   "outputs": [
    {
     "data": {
      "text/plain": [
       "['Tesla', 'Jeep', 'Rivian', 'Ford', 'Porsche']"
      ]
     },
     "execution_count": 73,
     "metadata": {},
     "output_type": "execute_result"
    }
   ],
   "source": [
    "auto_brands = [\"Chevrolet\", \"Tesla\", \"Jeep\", \"Rivian\", \"Ford\", \"Porsche\"]\n",
    "# for i in range(len(auto_brands)):\n",
    "for i, brand in enumerate(auto_brands):\n",
    "    if auto_brands[i] == \"Chevrolet\":\n",
    "        auto_brands.pop(i)\n",
    "        # break\n",
    "auto_brands"
   ]
  },
  {
   "cell_type": "markdown",
   "metadata": {},
   "source": [
    "#### Tuples\n",
    "\n",
    "Similar to lists, you can use loops to iterate through elements in a tuple."
   ]
  },
  {
   "cell_type": "code",
   "execution_count": 62,
   "metadata": {},
   "outputs": [
    {
     "name": "stdout",
     "output_type": "stream",
     "text": [
      "3\n",
      "4\n"
     ]
    }
   ],
   "source": [
    "coordinates = (3, 4)\n",
    "for coordinate in coordinates:\n",
    "    print(coordinate)"
   ]
  },
  {
   "cell_type": "markdown",
   "metadata": {},
   "source": [
    "#### Dictionaries\n",
    "\n",
    "Dictionaries are iterable, and you can loop through keys, values, or key-value pairs.  "
   ]
  },
  {
   "cell_type": "code",
   "execution_count": 63,
   "metadata": {},
   "outputs": [
    {
     "name": "stdout",
     "output_type": "stream",
     "text": [
      "This is the key: NAME - and this is the value: ALICE\n",
      "This is the key: AGE - and this is the value: 25\n",
      "This is the key: OCCUPATION - and this is the value: SOFTWARE ENGINEER\n",
      "This is the key: SALARY - and this is the value: 95000\n",
      "This is the key: DIVISION - and this is the value: R&D\n"
     ]
    }
   ],
   "source": [
    "person = {\"name\": \"Alice\", \"age\": 25, \"occupation\": \"Software Engineer\", \"salary\": 95000, \"division\": \"R&D\"}\n",
    "for key in person:\n",
    "    print(f\"This is the key: {key.upper()} - and this is the value: {str(person[key]).upper()}\")"
   ]
  },
  {
   "cell_type": "code",
   "execution_count": 64,
   "metadata": {},
   "outputs": [
    {
     "name": "stdout",
     "output_type": "stream",
     "text": [
      "This is the key: NAME - and this is the value: Alice\n",
      "This is the key: AGE - and this is the value: 25\n",
      "This is the key: OCCUPATION - and this is the value: Software Engineer\n",
      "This is the key: SALARY - and this is the value: 95000\n",
      "This is the key: DIVISION - and this is the value: R&D\n"
     ]
    }
   ],
   "source": [
    "for k, v in person.items():\n",
    "    print(f\"This is the key: {k.upper()} - and this is the value: {v}\")"
   ]
  },
  {
   "cell_type": "markdown",
   "metadata": {},
   "source": [
    "### Nesting Loops\n",
    "\n",
    "SNesting loops is running a loop inside of another loop.  Typically, nested loops are used to iterate through nested data collections, such as lists inside of lists, or lists inside of dictionaries.  Below is what a nested loop would look like:"
   ]
  },
  {
   "cell_type": "code",
   "execution_count": 74,
   "metadata": {},
   "outputs": [
    {
     "name": "stdout",
     "output_type": "stream",
     "text": [
      "1\n",
      "2\n",
      "3\n",
      "4\n",
      "5\n",
      "6\n"
     ]
    }
   ],
   "source": [
    "nested_list = [[1,2,3],[4,5,6]]\n",
    "\n",
    "for row in nested_list:\n",
    "    for item in row:\n",
    "        print(item)"
   ]
  },
  {
   "cell_type": "markdown",
   "metadata": {},
   "source": [
    "### Data Manipulation\n",
    "\n",
    "So far, you've learned about the basic foundational concepts of Python, to include the basic data types, data collections, functions, and loops.  Now we are going to start combining some of those tools to manipulate data and provide insights (and good practice!)"
   ]
  },
  {
   "cell_type": "markdown",
   "metadata": {},
   "source": [
    "#### Data Presentation\n",
    "\n",
    "Using some of the basic tools we learned about, we can use Python to take a data structure and present the data it contains in a visually appealling way.  We can, for example, use loops to creatively iterate over a data structure, perform an operation on the element, and add some way to logically divide the data so it prints out neatly.  Check out this example:"
   ]
  },
  {
   "cell_type": "code",
   "execution_count": 75,
   "metadata": {},
   "outputs": [
    {
     "name": "stdout",
     "output_type": "stream",
     "text": [
      "coordinate: (36.9569793, -77.9512123)\n",
      "   rounded degree:  36.96\n",
      "   rounded degree:  -77.95\n",
      "- - - - - - - - - - - - - - - \n",
      "coordinate: (37.8948456, -45.9933284)\n",
      "   rounded degree:  37.89\n",
      "   rounded degree:  -45.99\n",
      "- - - - - - - - - - - - - - - \n",
      "coordinate: (34.944556, -172.035656)\n",
      "   rounded degree:  34.94\n",
      "   rounded degree:  -172.04\n",
      "- - - - - - - - - - - - - - - \n",
      "coordinate: (42.96127474, -23.993473123)\n",
      "   rounded degree:  42.96\n",
      "   rounded degree:  -23.99\n",
      "- - - - - - - - - - - - - - - \n",
      "coordinate: (32.9189643, 123.9879538)\n",
      "   rounded degree:  32.92\n",
      "   rounded degree:  123.99\n",
      "- - - - - - - - - - - - - - - \n"
     ]
    }
   ],
   "source": [
    "my_set = {(34.944556, -172.035656), (37.8948456, -45.9933284), (36.9569793, -77.9512123), (32.9189643, 123.9879538), (42.96127474, -23.993473123)}\n",
    "\n",
    "for coord_pair in my_set:\n",
    "    print('coordinate:', coord_pair)\n",
    "\n",
    "    for item in coord_pair:\n",
    "        item = round(item, 2)\n",
    "        print('   rounded degree: ', item)\n",
    "        \n",
    "    print('- ' * 15)"
   ]
  },
  {
   "cell_type": "markdown",
   "metadata": {},
   "source": [
    "#### Data Manipulation Exercises"
   ]
  },
  {
   "cell_type": "markdown",
   "metadata": {},
   "source": [
    "Exercise 1:  Given this list of coordinates, format them with a decimal point.  In this listing, latitude coordinates (denoted with `N` or `S` at the end) have 2 digits with 4 decimal degrees, and longitude has 3 digits with 4 decimal degrees.  Coordinates in your result should look like this: `36.4256N` or `120.5726W`.  Save the new coordinates in a new list and print them out."
   ]
  },
  {
   "cell_type": "code",
   "execution_count": 89,
   "metadata": {},
   "outputs": [],
   "source": [
    "coordinates = ['001251S', '1458145W', '751609S', '0702701W', '169501N', '1618989W', '558547S', '0214097W', '835864N',\n",
    "               '1268796E', '832255N', '0327724E', '564026S', '0010394W', '095331N', '0331801E', '268950N', '1494330E',\n",
    "               '807760S', '0205861E  ', '738919N   ', '0664699W', '605174S  ', '0166332W', '219956S   ', '0925232E', '183798S',\n",
    "               '0912672W', '728902N', '1511569E', '882030N', '1771585E', '777760N', '0886417W', '872853S', '1013176E',\n",
    "               '381111N', '0790259E', '408154N', '1678905W', '184926S', '0466500E', '534746S', '1439038E', '722829S',\n",
    "               '  0956044E   ', '158121S', '1355671W', '726763S', '1233750W', '047979N', '0746807W', '692209N', '0244100E',\n",
    "               '396767S', '1130952W', '577572N', '1075059E', '083091S', '0502460W', '208663N', '0512649E', '446746N',\n",
    "               '0943990W', '748701S', '1670451E', '564214N', '0838180E', '891697N', '1355671W', '726763S', '0173152E',\n",
    "               '415852N', '1770667E', '712605S', '0808857E', '005686S', '0675283W', '023440S', '0565808W', '123331N',\n",
    "               '0169811E', '884606S', '1699401E', '728619S', '0153910E', '493564S', '1381804E', '040780S', '0381086W',\n",
    "               '   294066S', '  0768541W', '874393S', '1279228E', '640463S', '1423572W', '346219N', '1248809E', '316762S',\n",
    "               '1545964W', '343856S', '1177982W', '798425S  ', '0253498E', '460875N', '0486881W  ', '811978S', '0317535W',\n",
    "               '  445757N', '0163294E', '712272S', '0926236E', '556458N  ', '1134517W', '223318S', '0909808W', '725175N',\n",
    "               '1482888W', '810648S  ', '0983814W', '128615N', '0918245W', '648537N', '  1660775E  ', '099212S', '1613558W',\n",
    "               ' 169083N', '0069521E', '494381S', '0821162E', '323002S', '  0895635E  ', '405559N', '1364162E', '781623N   ',\n",
    "               '  1155485W', '294612S', '0846210E', '279074N', '0617201W', '767002S', '0568345E', '598954S', '1166391E',\n",
    "               '556746N', '1193564W', '865104N', '0741456E', '770912S', '0018400W', '643547N', '0000984E', '721042N',\n",
    "               '1140391W', '282575N', '1429943W', '009296S', '0122358W  ', '021803S', '1537587W', '817594S', '1304475E   ',\n",
    "               '462865N', '1066145W  ', '554805S', '1129959W', '217818S', '1137339E', '338721N', '1781291W', '081507N',\n",
    "               '1020942W', '578799S', '1755547E', '356625N', '1075063E', '330831N', '0408577W', '413240N', '0352458W',\n",
    "               '   421590S', '0611427W', '808923S  ', '1677702E', '437655S', '1610795W', '747199S', '0260411E', '426133N',\n",
    "               '1739195E', '181808N', '0479451E', '565707N', '0552191E', '199290S', '1706089W', '185739N', '1291445E',\n",
    "               '102829S', '  1049376E', '090498N', '0553653E', '491786N   ', '0123907E', '426234S', '0112585W', '891007N',\n",
    "               '1149042W', ' 410566N', '0231040E', '125391N', '   1158478E  ', '155634S', '0133022W', '466321S', '1571240E',\n",
    "               '444866S  ', '1669398E', '312817N', '1328573W', '679456S', '0223912E', '018167S', '0322769E', '359070S',\n",
    "               '0144414W', '  308863S   ', '0040646E', '320359S', '1581091E', '634580S', '1559339E', '610337N', '0081672E',\n",
    "               '233164S', '0401213E', '787008N', '1684622W', '160913S  ', '0519766W', '767041N', '0891031W', '412772N',\n",
    "               '1070008W  ', '454291S', '1535091E', '897581N', '1158477W', '846255S', '0101984E', '498480S', '1558721W',\n",
    "               '286832N', '0178005W', '828046S', '1681195E', '817740S', '0831152E', '321680S', '0560485W', '108417N',\n",
    "               '0817694W', '569108N', '0859276W', '869007S', '1200099W', '688774N', '0752857W', '590307N', '0390206E',\n",
    "               '     146336N', '1755119E', '284822S', '1530525E', '441923S', '0179598W', '218161N', '1290153E', '869916S',\n",
    "               '0380798W', '454267S', '1179553E', '  282461S  ', '1133703W', '373709S', '1134497W', '877272S', '0276842W',\n",
    "               '419035S', '1610104W', '031060S', '0996233E', '444315S', '0283348W', '346425S', '0915321W', '631689N',\n",
    "               '0222680E', '773830S', '0659182E', '502604N', '1650731W', '043356N', '0904925E', '068210S', '0027693W',\n",
    "               '310147S   ', '  1597000W  ', '624352N', '0802110W', '678573S', '1185367W', '673065S', '1545794W', '074848N',\n",
    "               '   0565096W', '601615S', '1111452W', '230833S', '0412381W', '080455N', '0063638W', '052513N', '1124680E',\n",
    "               '871211S', '0766947E', '324174S', '0024447E', '283259N', '0887907E', '288460S', '1236934E', '304827S',\n",
    "               '1147140E', '098914N', '0893373E', '239367S', '0880325E', '014455S', '0310027E', '654170S', '0146584E',\n",
    "               '211451N', '1620227W', '051343S', '0406677E', '286805N   ', '1328876E', '225997S', '0428105E', '473867S',\n",
    "               '0779615E', '758910S', '0587889E', '126936S', '1402894W', '159310N', '1296442W', '494509N', '0034254E',\n",
    "               '661676N', '1345096E', '528086S', '0166528W', '792654S', '0986073E', '357699S', '0822735W', '444064S',\n",
    "               '1300579W', ' 825756S  ', '1062958W', '745455S', '1212493E', '358371N', '1355671W', '726763S', '0478974E',\n",
    "               '146651N', '0785372E', '215280N', '1329565W', '362277S', '0954376E', '188458N', '0562158E', '188938S',\n",
    "               '    0485582W  ', '230565N', '0870492E', '636377S', '1018174E', '671545N', '0160212W', '237370N', '0870965E',\n",
    "               '640517N', '1692813W', '1355671W', '726763S']"
   ]
  },
  {
   "cell_type": "code",
   "execution_count": 97,
   "metadata": {},
   "outputs": [
    {
     "name": "stdout",
     "output_type": "stream",
     "text": [
      "['00.1251S', '145.8145W', '75.1609S', '070.2701W', '16.9501N', '161.8989W', '55.8547S', '021.4097W', '83.5864N', '126.8796E', '83.2255N', '032.7724E', '56.4026S', '001.0394W', '09.5331N', '033.1801E', '26.8950N', '149.4330E', '80.7760S', '020.5861E', '73.8919N', '066.4699W', '60.5174S', '016.6332W', '21.9956S', '092.5232E', '18.3798S', '091.2672W', '72.8902N', '151.1569E', '88.2030N', '177.1585E', '77.7760N', '088.6417W', '87.2853S', '101.3176E', '38.1111N', '079.0259E', '40.8154N', '167.8905W', '18.4926S', '046.6500E', '53.4746S', '143.9038E', '72.2829S', '095.6044E', '15.8121S', '135.5671W', '72.6763S', '123.3750W', '04.7979N', '074.6807W', '69.2209N', '024.4100E', '39.6767S', '113.0952W', '57.7572N', '107.5059E', '08.3091S', '050.2460W', '20.8663N', '051.2649E', '44.6746N', '094.3990W', '74.8701S', '167.0451E', '56.4214N', '083.8180E', '89.1697N', '135.5671W', '72.6763S', '017.3152E', '41.5852N', '177.0667E', '71.2605S', '080.8857E', '00.5686S', '067.5283W', '02.3440S', '056.5808W', '12.3331N', '016.9811E', '88.4606S', '169.9401E', '72.8619S', '015.3910E', '49.3564S', '138.1804E', '04.0780S', '038.1086W', '29.4066S', '076.8541W', '87.4393S', '127.9228E', '64.0463S', '142.3572W', '34.6219N', '124.8809E', '31.6762S', '154.5964W', '34.3856S', '117.7982W', '79.8425S', '025.3498E', '46.0875N', '048.6881W', '81.1978S', '031.7535W', '44.5757N', '016.3294E', '71.2272S', '092.6236E', '55.6458N', '113.4517W', '22.3318S', '090.9808W', '72.5175N', '148.2888W', '81.0648S', '098.3814W', '12.8615N', '091.8245W', '64.8537N', '166.0775E', '09.9212S', '161.3558W', '16.9083N', '006.9521E', '49.4381S', '082.1162E', '32.3002S', '089.5635E', '40.5559N', '136.4162E', '78.1623N', '115.5485W', '29.4612S', '084.6210E', '27.9074N', '061.7201W', '76.7002S', '056.8345E', '59.8954S', '116.6391E', '55.6746N', '119.3564W', '86.5104N', '074.1456E', '77.0912S', '001.8400W', '64.3547N', '000.0984E', '72.1042N', '114.0391W', '28.2575N', '142.9943W', '00.9296S', '012.2358W', '02.1803S', '153.7587W', '81.7594S', '130.4475E', '46.2865N', '106.6145W', '55.4805S', '112.9959W', '21.7818S', '113.7339E', '33.8721N', '178.1291W', '08.1507N', '102.0942W', '57.8799S', '175.5547E', '35.6625N', '107.5063E', '33.0831N', '040.8577W', '41.3240N', '035.2458W', '42.1590S', '061.1427W', '80.8923S', '167.7702E', '43.7655S', '161.0795W', '74.7199S', '026.0411E', '42.6133N', '173.9195E', '18.1808N', '047.9451E', '56.5707N', '055.2191E', '19.9290S', '170.6089W', '18.5739N', '129.1445E', '10.2829S', '104.9376E', '09.0498N', '055.3653E', '49.1786N', '012.3907E', '42.6234S', '011.2585W', '89.1007N', '114.9042W', '41.0566N', '023.1040E', '12.5391N', '115.8478E', '15.5634S', '013.3022W', '46.6321S', '157.1240E', '44.4866S', '166.9398E', '31.2817N', '132.8573W', '67.9456S', '022.3912E', '01.8167S', '032.2769E', '35.9070S', '014.4414W', '30.8863S', '004.0646E', '32.0359S', '158.1091E', '63.4580S', '155.9339E', '61.0337N', '008.1672E', '23.3164S', '040.1213E', '78.7008N', '168.4622W', '16.0913S', '051.9766W', '76.7041N', '089.1031W', '41.2772N', '107.0008W', '45.4291S', '153.5091E', '89.7581N', '115.8477W', '84.6255S', '010.1984E', '49.8480S', '155.8721W', '28.6832N', '017.8005W', '82.8046S', '168.1195E', '81.7740S', '083.1152E', '32.1680S', '056.0485W', '10.8417N', '081.7694W', '56.9108N', '085.9276W', '86.9007S', '120.0099W', '68.8774N', '075.2857W', '59.0307N', '039.0206E', '14.6336N', '175.5119E', '28.4822S', '153.0525E', '44.1923S', '017.9598W', '21.8161N', '129.0153E', '86.9916S', '038.0798W', '45.4267S', '117.9553E', '28.2461S', '113.3703W', '37.3709S', '113.4497W', '87.7272S', '027.6842W', '41.9035S', '161.0104W', '03.1060S', '099.6233E', '44.4315S', '028.3348W', '34.6425S', '091.5321W', '63.1689N', '022.2680E', '77.3830S', '065.9182E', '50.2604N', '165.0731W', '04.3356N', '090.4925E', '06.8210S', '002.7693W', '31.0147S', '159.7000W', '62.4352N', '080.2110W', '67.8573S', '118.5367W', '67.3065S', '154.5794W', '07.4848N', '056.5096W', '60.1615S', '111.1452W', '23.0833S', '041.2381W', '08.0455N', '006.3638W', '05.2513N', '112.4680E', '87.1211S', '076.6947E', '32.4174S', '002.4447E', '28.3259N', '088.7907E', '28.8460S', '123.6934E', '30.4827S', '114.7140E', '09.8914N', '089.3373E', '23.9367S', '088.0325E', '01.4455S', '031.0027E', '65.4170S', '014.6584E', '21.1451N', '162.0227W', '05.1343S', '040.6677E', '28.6805N', '132.8876E', '22.5997S', '042.8105E', '47.3867S', '077.9615E', '75.8910S', '058.7889E', '12.6936S', '140.2894W', '15.9310N', '129.6442W', '49.4509N', '003.4254E', '66.1676N', '134.5096E', '52.8086S', '016.6528W', '79.2654S', '098.6073E', '35.7699S', '082.2735W', '44.4064S', '130.0579W', '82.5756S', '106.2958W', '74.5455S', '121.2493E', '35.8371N', '135.5671W', '72.6763S', '047.8974E', '14.6651N', '078.5372E', '21.5280N', '132.9565W', '36.2277S', '095.4376E', '18.8458N', '056.2158E', '18.8938S', '048.5582W', '23.0565N', '087.0492E', '63.6377S', '101.8174E', '67.1545N', '016.0212W', '23.7370N', '087.0965E', '64.0517N', '169.2813W', '135.5671W', '72.6763S']\n"
     ]
    }
   ],
   "source": [
    "# Your code goes here\n",
    "# def decimal_adder(data):\n",
    "#     result = []\n",
    "#     coord_list = []\n",
    "#     for coord in data:\n",
    "#         coord = coord.strip()\n",
    "#         if \"N\" in coord or \"S\" in coord:\n",
    "            \n",
    "#             for char in coord:\n",
    "#                 coord_list.append(char)\n",
    "#             coord_list.insert(2, '.')\n",
    "#             coord = ''.join(coord_list)\n",
    "#             result.append(coord)\n",
    "#         elif \"W\" in coord or \"E\" in coord:\n",
    "#             coord_list = []\n",
    "#             for char in coord:\n",
    "#                 coord_list.append(char)\n",
    "#             coord_list.insert(3, '.')\n",
    "#             coord = ''.join(coord_list)\n",
    "#             result.append(coord)\n",
    "            \n",
    "#     return result\n",
    "\n",
    "# print(decimal_adder(coordinates))\n",
    "\n",
    "def decimal_adder(data):\n",
    "    result = []\n",
    "    for coord in data:\n",
    "        coord_list = []\n",
    "        coord = coord.strip()\n",
    "        for char in coord:\n",
    "            coord_list.append(char)\n",
    "        if coord_list[-1] in ['N', 'S']:\n",
    "            coord_list.insert(2, '.')\n",
    "        elif coord_list[-1] in ['E', 'W']:\n",
    "            coord_list.insert(3, '.')\n",
    "        coord = ''.join(coord_list)\n",
    "        result.append(coord)\n",
    "    return result\n",
    "print(decimal_adder(coordinates))"
   ]
  },
  {
   "cell_type": "markdown",
   "metadata": {},
   "source": [
    "Exercise 2:  Using the coordinate results, combine the adjacent latitudes and longitudes into tuple coordinate pairs. The result should look like this `[('36.4256N', '120.5726W'), ('12.6523S', 024.3075E), ...]`.  Save the resulting list into a new list."
   ]
  },
  {
   "cell_type": "code",
   "execution_count": null,
   "metadata": {},
   "outputs": [],
   "source": [
    "# Your code goes here"
   ]
  },
  {
   "cell_type": "markdown",
   "metadata": {},
   "source": [
    "Exercise 3:  Using the list of tuple coordinate pairs, save each one into a dictionary with keys formatted like so: `{\"Location 1\": ('36.4256N', '120.5726W'), 'Location 2': ('12.6523S', 024.3075E), ...}`"
   ]
  },
  {
   "cell_type": "code",
   "execution_count": null,
   "metadata": {},
   "outputs": [],
   "source": [
    "## Your code goes here\n"
   ]
  },
  {
   "cell_type": "markdown",
   "metadata": {},
   "source": [
    "Stretch Goal: There are a few repeat coordinate pairs.  Remove them from the dictionary."
   ]
  },
  {
   "cell_type": "code",
   "execution_count": null,
   "metadata": {},
   "outputs": [],
   "source": [
    "## Your code goes here\n"
   ]
  },
  {
   "cell_type": "markdown",
   "metadata": {},
   "source": [
    "### Conclusion\n",
    "\n",
    "Today, we explored loops, an essential tool for performing repetitive tasks which help us organize and reuse code. You've learned about different types of loops, such as while loops, and how to use them with various data structures.\n",
    "\n",
    "Keep practicing loops as they are fundamental building blocks for creating more complex Python programs."
   ]
  },
  {
   "cell_type": "markdown",
   "metadata": {},
   "source": [
    "### Assignments\n",
    "\n",
    "- [Loops and Loops](https://replit.com/@cpadmin/loopsandloops#main.py)\n",
    "- [Space X countdown](https://replit.com/@cpadmin/SpaceX-Countdown-Python#main.py)\n",
    "- [FizzBuzz](https://replit.com/@cpadmin/FizzBuzz-Python#main.py)\n",
    "- [Camel Case](https://replit.com/@cpadmin/CamelCase-Python#main.py)"
   ]
  },
  {
   "cell_type": "code",
   "execution_count": null,
   "metadata": {},
   "outputs": [],
   "source": [
    "# Exercise: Iterating Through Different Data Types\n",
    "\n",
    "# Part 1: List\n",
    "numbers = [1, 2, 3, 4, 5]\n",
    "\n",
    "# Use a for loop to iterate through the list and print each element\n",
    "print(\"Part 1: List - Using for loop\")\n",
    "def printElementOfList(numbers):\n",
    "    for num in numbers:\n",
    "        print(num)\n",
    "print(printElementOfList(numbers))\n",
    "print(\"\\n\")\n",
    "\n",
    "# Part 2: Tuple\n",
    "colors = (\"red\", \"green\", \"blue\")\n",
    "\n",
    "# Use a for loop to iterate through the tuple and print each element\n",
    "print(\"Part 2: Tuple - Using for loop\")\n",
    "def printElementOfTuple(colors):\n",
    "    for element in colors:\n",
    "        print(element)\n",
    "print(printElementOfTuple(colors))\n",
    "print(\"\\n\")\n",
    "\n",
    "# Part 3: String\n",
    "message = \"Python\"\n",
    "\n",
    "# Use a for loop to iterate through the string and print each character\n",
    "print(\"Part 3: String - Using for loop\")\n",
    "def printCharacter(message):\n",
    "    for  char in message:\n",
    "        print(char)\n",
    "print(printCharacter(message))\n",
    "print(\"\\n\")\n",
    "\n",
    "# Part 4: Range\n",
    "distance = 5\n",
    "# Print numbers from 1 to 5 using a for loop and range\n",
    "print(\"Part 4: Range - Using for loop\")\n",
    "\n",
    "def printRange(distance):\n",
    "    for i in range(5):\n",
    "        print(i+1)\n",
    "print(printRange(distance))\n",
    "print(\"\\n\")\n",
    "\n",
    "# Part 5: Dictionary\n",
    "student_grades = {\"Alice\": 95, \"Bob\": 87, \"Charlie\": 92}\n",
    "\n",
    "# Use a for loop to iterate through the dictionary and print each key-value pair\n",
    "print(\"Part 5: Dictionary - Using for loop\")\n",
    "def printKeyValue(student_grades):\n",
    "    for k,v in student_grades.items():\n",
    "        print(k,v)\n",
    "print(printKeyValue(student_grades))\n",
    "print(\"\\n\")\n",
    "\n",
    "# Part 6: While Loop\n",
    "# Use a while loop to print numbers from 1 to 5\n",
    "print(\"Part 6: While Loop\")\n",
    "\n",
    "def whileLoop():\n",
    "    num = 1\n",
    "    while num < 6:\n",
    "        print(num)\n",
    "        num += 1\n",
    "print(whileLoop())\n",
    "print(\"\\nWhile\")\n",
    "\n",
    "# Part 7: Nested Loop\n",
    "# Use nested loops to print a multiplication table (e.g., 2x1, 2x2, ..., 2x10)\n",
    "print(\"Part 7: Nested Loop - Multiplication Table\")\n",
    "# Change the range to generate tables for different numbers\n",
    "table = [\n",
    "    [1, 2, 3],\n",
    "    [4, 5, 6],\n",
    "    [7, 8, 9]\n",
    "]\n",
    "def nestedLoop(table):\n",
    "    for row in table:\n",
    "        for cell in row:\n",
    "            print(cell)\n",
    "print(nestedLoop(table))\n",
    "\n",
    "# Note: Encourage students to understand the difference between these loop types and when to use each.\n"
   ]
  },
  {
   "cell_type": "code",
   "execution_count": null,
   "metadata": {},
   "outputs": [],
   "source": [
    "\n",
    "# Write a function that takes in an integer as seconds and prints how many seconds there \n",
    "# are until lift off and once there are zero seconds left have it return 'Lift Off!'\n",
    "\n",
    "def countDown(num):\n",
    "    while num >= 0:\n",
    "        if num >=0:\n",
    "            print(f\"There are {num} seconds left until liftoff!\")\n",
    "            num -= 1\n",
    "    return \"Lift Off!\"\n",
    "\n",
    "countDown(5)\n",
    "\n",
    "# Console Output\n",
    "# \"There are 5 seconds left until liftoff!\"\n",
    "# \"There are 4 seconds left until liftoff!\"\n",
    "# \"There are 3 seconds left until liftoff!\"\n",
    "# \"There are 1 seconds left until liftoff!\"\n",
    "# \"There are 0 seconds left until liftoff!\"\n",
    "# \"Lift Off!\""
   ]
  },
  {
   "cell_type": "code",
   "execution_count": 132,
   "metadata": {},
   "outputs": [
    {
     "name": "stdout",
     "output_type": "stream",
     "text": [
      "{100: 'Buzz', 99: 'Fizz', 98: 98, 97: 97, 96: 'Fizz', 95: 'Buzz', 94: 94, 93: 'Fizz', 92: 92, 91: 91, 90: 'FizzBuzz', 89: 89, 88: 88, 87: 'Fizz', 86: 86, 85: 'Buzz', 84: 'Fizz', 83: 83, 82: 82, 81: 'Fizz', 80: 'Buzz', 79: 79, 78: 'Fizz', 77: 77, 76: 76, 75: 'FizzBuzz', 74: 74, 73: 73, 72: 'Fizz', 71: 71, 70: 'Buzz', 69: 'Fizz', 68: 68, 67: 67, 66: 'Fizz', 65: 'Buzz', 64: 64, 63: 'Fizz', 62: 62, 61: 61, 60: 'FizzBuzz', 59: 59, 58: 58, 57: 'Fizz', 56: 56, 55: 'Buzz', 54: 'Fizz', 53: 53, 52: 52, 51: 'Fizz', 50: 'Buzz', 49: 49, 48: 'Fizz', 47: 47, 46: 46, 45: 'FizzBuzz', 44: 44, 43: 43, 42: 'Fizz', 41: 41, 40: 'Buzz', 39: 'Fizz', 38: 38, 37: 37, 36: 'Fizz', 35: 'Buzz', 34: 34, 33: 'Fizz', 32: 32, 31: 31, 30: 'FizzBuzz', 29: 29, 28: 28, 27: 'Fizz', 26: 26, 25: 'Buzz', 24: 'Fizz', 23: 23, 22: 22, 21: 'Fizz', 20: 'Buzz', 19: 19, 18: 'Fizz', 17: 17, 16: 16, 15: 'FizzBuzz', 14: 14, 13: 13, 12: 'Fizz', 11: 11, 10: 'Buzz', 9: 'Fizz', 8: 8, 7: 7, 6: 'Fizz', 5: 'Buzz', 4: 4, 3: 'Fizz', 2: 2, 1: 1}\n",
      "True\n"
     ]
    }
   ],
   "source": [
    "# The \"Fizz-Buzz test\" is an interview question designed to help filter \n",
    "# out the 99.5% of programming job candidates. The text of the programming\n",
    "# assignment is follows something similar to this: Write a program that \n",
    "# prints an object with a number of keys. The key is the number and the value is\n",
    "# either the number, \"Fizz\", \"Buzz\", or \"FizzBuzz\". But for multiples of three \n",
    "# assign the key's value to equal “Fizz” instead of the number and for the \n",
    "# multiples of five assign the key's value to equal “Buzz”. For numbers\n",
    "# which are multiples of both three and five assign the key's value to equal\n",
    "# “FizzBuzz”, otherwise assign the key's value to equal the number.\n",
    "\n",
    "def fizz_buzz(num):\n",
    "    obj = dict()\n",
    "    while num > 0:\n",
    "        if num % 3 == 0 and num % 5 == 0:\n",
    "            obj[num] = \"FizzBuzz\"\n",
    "        elif num % 5 == 0:\n",
    "            obj[num] = \"Buzz\"\n",
    "        elif num % 3 == 0:\n",
    "            obj[num] = \"Fizz\"\n",
    "        else:\n",
    "            obj[num] = num\n",
    "        num -= 1\n",
    "    # print(obj)         \n",
    "    return obj\n",
    "      \n",
    "# print(fizz_buzz(num))\n",
    "print(fizz_buzz(100) == { \n",
    "                1: 1,\n",
    "                2: 2,\n",
    "                3: 'Fizz',\n",
    "                4: 4,\n",
    "                5: 'Buzz',\n",
    "                6: 'Fizz',\n",
    "                7: 7,\n",
    "                8: 8,\n",
    "                9: 'Fizz',\n",
    "                10: 'Buzz',\n",
    "                11: 11,\n",
    "                12: 'Fizz',\n",
    "                13: 13,\n",
    "                14: 14,\n",
    "                15: 'FizzBuzz',\n",
    "                16: 16,\n",
    "                17: 17,\n",
    "                18: 'Fizz',\n",
    "                19: 19,\n",
    "                20: 'Buzz',\n",
    "                21: 'Fizz',\n",
    "                22: 22,\n",
    "                23: 23,\n",
    "                24: 'Fizz',\n",
    "                25: 'Buzz',\n",
    "                26: 26,\n",
    "                27: 'Fizz',\n",
    "                28: 28,\n",
    "                29: 29,\n",
    "                30: 'FizzBuzz',\n",
    "                31: 31,\n",
    "                32: 32,\n",
    "                33: 'Fizz',\n",
    "                34: 34,\n",
    "                35: 'Buzz',\n",
    "                36: 'Fizz',\n",
    "                37: 37,\n",
    "                38: 38,\n",
    "                39: 'Fizz',\n",
    "                40: 'Buzz',\n",
    "                41: 41,\n",
    "                42: 'Fizz',\n",
    "                43: 43,\n",
    "                44: 44,\n",
    "                45: 'FizzBuzz',\n",
    "                46: 46,\n",
    "                47: 47,\n",
    "                48: 'Fizz',\n",
    "                49: 49,\n",
    "                50: 'Buzz',\n",
    "                51: 'Fizz',\n",
    "                52: 52,\n",
    "                53: 53,\n",
    "                54: 'Fizz',\n",
    "                55: 'Buzz',\n",
    "                56: 56,\n",
    "                57: 'Fizz',\n",
    "                58: 58,\n",
    "                59: 59,\n",
    "                60: 'FizzBuzz',\n",
    "                61: 61,\n",
    "                62: 62,\n",
    "                63: 'Fizz',\n",
    "                64: 64,\n",
    "                65: 'Buzz',\n",
    "                66: 'Fizz',\n",
    "                67: 67,\n",
    "                68: 68,\n",
    "                69: 'Fizz',\n",
    "                70: 'Buzz',\n",
    "                71: 71,\n",
    "                72: 'Fizz',\n",
    "                73: 73,\n",
    "                74: 74,\n",
    "                75: 'FizzBuzz',\n",
    "                76: 76,\n",
    "                77: 77,\n",
    "                78: 'Fizz',\n",
    "                79: 79,\n",
    "                80: 'Buzz',\n",
    "                81: 'Fizz',\n",
    "                82: 82,\n",
    "                83: 83,\n",
    "                84: 'Fizz',\n",
    "                85: 'Buzz',\n",
    "                86: 86,\n",
    "                87: 'Fizz',\n",
    "                88: 88,\n",
    "                89: 89,\n",
    "                90: 'FizzBuzz',\n",
    "                91: 91,\n",
    "                92: 92,\n",
    "                93: 'Fizz',\n",
    "                94: 94,\n",
    "                95: 'Buzz',\n",
    "                96: 'Fizz',\n",
    "                97: 97,\n",
    "                98: 98,\n",
    "                99: 'Fizz',\n",
    "                100: 'Buzz'\n",
    "            }\n",
    "     )"
   ]
  },
  {
   "cell_type": "code",
   "execution_count": 158,
   "metadata": {},
   "outputs": [
    {
     "name": "stdout",
     "output_type": "stream",
     "text": [
      "my_name_is_kramer\n",
      "True\n",
      "first_name\n",
      "True\n",
      "array_of_names\n",
      "True\n"
     ]
    }
   ],
   "source": [
    "# There are a couple variable naming conventions in programming. They are camelCase and snake_case.\n",
    "# The Python language subscribes snake_case. Snake case is a naming convention for variable that\n",
    "# contain multiple words.\n",
    "\n",
    "# 1 -   The entire word in the variable's name is lowercase\n",
    "# 2 -   There are underlines between words and they are combined together.\n",
    "\n",
    "# EXAMPLE\n",
    "# Camel Case: thisIsCamelCase\n",
    "# Snake Case: this_is_snake_case\n",
    "\n",
    "\n",
    "# In this challenge you will write a function that takes in a camelCase argument and \n",
    "# converts the sentence to the snake_case convention.\n",
    "\n",
    "def make_snake_case(var_name):\n",
    "    snake_case_name = \"\"\n",
    "    for i, word in enumerate(var_name):\n",
    "        if word.isupper():\n",
    "            snake_case_name += \"_\"\n",
    "            snake_case_name += word.lower()\n",
    "        else:\n",
    "            snake_case_name += word\n",
    "    # print(snake_case_name)\n",
    "    return snake_case_name\n",
    "\n",
    "print(make_snake_case(\"myNameIsKramer\") ==  \"my_name_is_kramer\")\n",
    "print(make_snake_case(\"firstName\") ==  \"first_name\")\n",
    "print(make_snake_case(\"arrayOfNames\") ==  \"array_of_names\")"
   ]
  }
 ],
 "metadata": {
  "kernelspec": {
   "display_name": "Python 3",
   "language": "python",
   "name": "python3"
  },
  "language_info": {
   "codemirror_mode": {
    "name": "ipython",
    "version": 3
   },
   "file_extension": ".py",
   "mimetype": "text/x-python",
   "name": "python",
   "nbconvert_exporter": "python",
   "pygments_lexer": "ipython3",
   "version": "3.11.5"
  }
 },
 "nbformat": 4,
 "nbformat_minor": 2
}
