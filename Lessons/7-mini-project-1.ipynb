{
 "cells": [
  {
   "cell_type": "markdown",
   "metadata": {},
   "source": [
    "# Class Exercises"
   ]
  },
  {
   "cell_type": "markdown",
   "metadata": {},
   "source": [
    "### Problem Solving Exercise\n",
    "\n",
    "In the paragraph below, write a script to identify the longest sentence by word count.\n",
    "\n",
    "```python\n",
    "'''\n",
    "Nestled in the heart of the Pacific Northwest, Washington State is a mesmerizing blend of natural wonders and urban sophistication. Its geography is a tapestry of contrasts, stretching from the rugged Pacific coastlines to the dense, verdant rainforests of the Olympic Peninsula, culminating in the majestic Cascade Mountains. Among these peaks, Mt. Rainier stands as a sentinel, an active volcano and the pinnacle of the state’s natural beauty. This diverse terrain provides a playground for adventurers and nature lovers alike, offering an array of activities from serene hiking trails and challenging ski slopes to tranquil kayaking routes. Beyond its scenic landscapes, Washington's ecological diversity is a testament to its environmental richness, hosting an array of wildlife that includes the majestic orcas navigating the Puget Sound and elusive elk roaming the shadowy rainforests. This harmonious blend of natural beauty and wildlife creates a unique backdrop for the state, inviting both residents and visitors to immerse themselves in its outdoor wonders. Washington State, through its stunning geography and vibrant ecosystems, stands as a beacon of the Pacific Northwest's splendor, embodying the essence of adventure and the tranquility of nature in one cohesive landscape.\n",
    "'''\n",
    "```"
   ]
  },
  {
   "cell_type": "code",
   "execution_count": null,
   "metadata": {},
   "outputs": [],
   "source": [
    "def word_counter(string):\n",
    "    longest_sentence = ''\n",
    "    highest_word_count = 0\n",
    "    split_string = string.split('.')\n",
    "    for sentence in split_string:\n",
    "        split_sentence = sentence.split()\n",
    "        if len(sentence) > highest_word_count:\n",
    "            highest_word_count = len(split_sentence)\n",
    "            longest_sentence = sentence\n",
    "    print(f'The longest sentence has {highest_word_count} words.')\n",
    "    print(longest_sentence)\n",
    "\n",
    "word_counter(paragraph)\n"
   ]
  },
  {
   "cell_type": "markdown",
   "metadata": {},
   "source": [
    "Exercise: Phone Number Scrubber\n",
    "\n",
    "Imagine you are working for a company that has a list of customer phone numbers in various formats. Your task is to standardize these phone numbers."
   ]
  },
  {
   "cell_type": "code",
   "execution_count": null,
   "metadata": {},
   "outputs": [],
   "source": [
    "customers = {\n",
    "    \"John Doe\": \"123.456.7890\",\n",
    "    \"Jane Smith\": \"(123) 456-7890\",\n",
    "    \"Jim Brown\": \"123 456 7890\",\n",
    "    \"Jake White\": \"1234567890\",\n",
    "    \"Jill Black\": \"+1 123 456 7890\"\n",
    "}"
   ]
  },
  {
   "cell_type": "markdown",
   "metadata": {},
   "source": [
    "Write a function that checks if all the phone numbers in the below dictionary are United States numbers (country code +1).  If a number is not, that customer should be moved to a new dictionary called \"foreign_customers\".  A number with no country code is assumed to be in the United States IF the phone number is ten digits.\n",
    "\n",
    "Additionally, the United States numbers should be formatted as XXX-XXX-XXXX.\n"
   ]
  },
  {
   "cell_type": "code",
   "execution_count": null,
   "metadata": {},
   "outputs": [],
   "source": [
    "customers = {'Andrea Pena': '+2 79 480 8486', 'David Blanchard': '(830) 850-6613', 'Mr. Michael Taylor': '(838) 349-4700', 'Alyssa Mccarthy': '534.521.3618', 'Johnny Cox': '8953442258', 'Thomas Mata': '589.891.6799', 'Patrick Pacheco': '326.774.5814', 'Elizabeth Jones': '(555) 870-2795', 'Cynthia Atkinson': '3544710375', 'Megan James': '+6 174 100 0663', 'Gabriel Foster': '195.684.0576', 'Christopher Mendoza': '(209) 473-4510', 'Tammy Alexander': '936.191.8618', 'Tracy Cummings': '016 748 8956', 'Debra Hall': '(764) 441-0916', 'Isaac Floyd': '429.774.3748', 'Paul Gardner': '109 080 1679', 'Jonathan Odonnell': '(535) 822-4421', 'Michael Smith': '943.293.2288', 'Donna Johnston': '+0 416 996 8430', 'Andrew Barry': '601 543 7434', 'Rebecca Murillo': '(793) 112-1731', 'Leah Russell': '4086283678', 'Teresa Shepard': '075.857.0179', 'Thomas Hughes': '(138) 783-1727', 'Erik Porter': '+9 061 692 8990', 'David Grant': '7034421794', 'Teresa French': '405.329.4110', 'Alexander Perez': '(366) 997-5624', 'Nicole Silva': '+9 901 529 6397', 'Pamela Mclaughlin': '(122) 196-7764', 'Sara Silva': '(732) 907-3293', 'Matthew Navarro': '5011426278', 'Joshua Martin': '(776) 851-0351', 'Joshua Richardson': '437 354 0893', 'Amanda Manning': '2207503201', 'Brandon Morrison': '351.178.2023', 'Jennifer Bell': '106.115.3214', 'Chris Horne': '+7 866 989 6942', 'Mary Smith': '5379623702', 'Daniel Collins': '+5 567 547 0215', 'Bethany Bryan': '022 761 3624', 'Ryan Oliver': '(620) 544-0697', 'Russell Mack': '271 330 7204', 'Taylor Cuevas': '(087) 928-2061', 'Ryan Oneal': '+9 166 124 9183', 'Douglas Sloan': '+0 970 088 6868', 'Jonathon Douglas': '885.986.1751', 'Nicole Lopez': '811.934.5075', 'Alyssa Phelps': '163.760.0736', 'Robert Johnson': '+5 558 442 3721', 'Rachel Ramirez': '(426) 597-3779', 'Daniel Griffin': '7058457332', 'Aaron Donaldson': '020 039 2364', 'Michelle Doyle': '+4 900 877 8964', 'Andrea Hall': '483 812 0355', 'George Ray': '597 164 3479', 'Melissa Little': '(391) 448-7736', 'Daniel Owens': '368.130.9125', 'Stanley Wood': '687.604.0936', 'Mr. Edgar Nelson': '+1 486 980 6967', 'Paul Stephens': '0472964792', 'Wendy Casey': '637 055 5986', 'Jennifer Brooks': '823 847 9758', 'Robert Frye II': '706 822 1046', 'Julie Hudson': '+3 992 652 4355', 'Adam Harmon': '9016969661', 'Jacob Avery': '031 453 3949', 'Stacey Moreno': '960.435.8908', 'Brianna Fox': '716 035 0381', 'Sierra Greene': '350.228.2727', 'Charlene Ramirez': '+4 415 808 2944', 'Kelli Harper': '+7 973 145 2380', 'James Sherman': '410.847.1122', 'Kristine May': '(425) 764-6810', 'Gabriella Nichols': '+5 981 985 0317', 'Stacey Harris': '(656) 611-6257', 'William Curry': '887.772.6533', 'Javier Odonnell': '(518) 299-9604', 'Amy Carpenter': '385 434 7348', 'Jason Perry': '822 902 9360', 'Jesse Brown': '(802) 039-3340', 'Jordan Ramsey': '(949) 780-2082', 'Rebecca Fox': '116 540 2446', 'Todd Clark': '+2 369 140 6615', 'Tina Roberts': '(571) 467-9349', 'Walter Williams': '341 906 0810', 'Mercedes Jackson': '+8 530 059 6751', 'Susan Bell': '7446156553', 'Sarah Miller': '824.332.2394', 'Richard Pena': '(080) 693-8671', 'Beth Scott': '184 432 3122', 'Blake Rivera': '(364) 654-0446', 'Elizabeth Coleman': '088 325 9334', 'Jimmy Jenkins': '(838) 612-9417', 'Isaac Turner': '620 870 2704', 'Dr. Tracey Pierce': '575 834 6360', 'Brandy Harris': '(736) 038-2335', 'Wendy Fleming': '2700842703', 'Walter Dawson': '(700) 437-3816', 'Ronnie Freeman': '698.173.3818', 'Douglas Jones': '+0 438 310 8376', 'Ricky Becker': '3196385124', 'Thomas Nelson': '(145) 236-2903', 'Amanda Smith': '753 801 1981', 'Michael Peterson': '(026) 819-9935', 'David Watts': '447 968 2597', 'Susan Wells': '624 834 2938', 'Robin Knight': '115 954 8492', 'Barbara James': '+1 552 518 9369', 'Paula Taylor': '872.479.4350', 'Charles Smith': '(455) 682-6041', 'Valerie Williams': '267.199.2895', 'Christine Lewis': '7923231153', 'Crystal Cortez': '+3 590 016 4516', 'Isaac Friedman': '724 405 8876', 'Amy Davidson': '8319371223', 'George Taylor': '723.819.3617', 'Jonathan Williams': '+1 389 155 9125', 'David Smith': '+9 610 163 2000', 'Jessica Whitney': '9227886866', 'Matthew Hester': '572 676 2407', 'Emily Black': '648.453.8607', 'James Fisher': '(080) 870-3004', 'Julie Robinson': '+7 039 216 3073', 'Angela King': '(621) 488-2370', 'Stacy Oliver': '(070) 709-5355', 'Gilbert Bishop': '161 938 6163', 'Linda Shepherd': '+5 495 046 5938', 'Jason Klein': '004 963 5115', 'Heather Williams DVM': '723.967.7841', 'Debra Combs': '780.436.6131', 'Billy Osborn': '+1 464 743 5461', 'Kevin Davis': '(576) 108-6246', 'Cassandra Brown': '+7 088 856 2105', 'Charles Elliott': '924.685.6216', 'Amy Doyle': '3967236134', 'Casey Singh': '4960562623', 'David Richardson': '872 355 4627', 'Mia Rogers': '(891) 805-0606', 'Laurie Moody': '090.340.5892', 'Shelia Carr': '331.983.7058', 'Andrew Murphy': '0786222495', 'Dale Watson': '280.425.3996', 'Wendy Tucker': '217.084.6230', 'Ashley May': '422 023 5079', 'Anna Khan': '659.484.5914', 'Elaine Clark': '449.587.3376', 'Adam Parker': '3254422996', 'Rebecca Kelly': '697.261.6475'}"
   ]
  }
 ],
 "metadata": {
  "kernelspec": {
   "display_name": "Python 3 (ipykernel)",
   "language": "python",
   "name": "python3"
  },
  "language_info": {
   "codemirror_mode": {
    "name": "ipython",
    "version": 3
   },
   "file_extension": ".py",
   "mimetype": "text/x-python",
   "name": "python",
   "nbconvert_exporter": "python",
   "pygments_lexer": "ipython3",
   "version": "3.12.3"
  }
 },
 "nbformat": 4,
 "nbformat_minor": 4
}
