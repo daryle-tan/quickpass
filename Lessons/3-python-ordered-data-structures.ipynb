{
 "cells": [
  {
   "cell_type": "markdown",
   "metadata": {},
   "source": [
    "# Python Ordered Data Structures <a id=\"title\"></a>\n",
    "\n",
    "## Introduction\n",
    "\n",
    "Welcome to today's lecture on ordered data structures in Python (Lists and Tuples). Lists and tuples are fundamental data structures used for storing collections of items. In this lesson, we'll explore the capabilities and limitations of ordered data structures, understand the concepts of mutability and immutability, and delve into the usage of various built-in methods."
   ]
  },
  {
   "cell_type": "markdown",
   "metadata": {},
   "source": [
    "## Table of Contents\n",
    "- [Python Ordered Data Structures](#title)\n",
    "  - [Introduction](#introduction)\n",
    "  - [Table of Contents](#table-of-contents)\n",
    "  - [Lists](#lists)\n",
    "    - [Creating Lists](#creating-lists)\n",
    "    - [List Operations and Methods](#list-operations-and-methods)\n",
    "      - [List Operations](#list-operations)\n",
    "      - [List Methods](#list-methods)\n",
    "  - [Tuples](#tuples)\n",
    "    - [Creating Tuples](#creating-tuples)\n",
    "    - [Tuple Operations](#tuple-operations)\n",
    "  - [Conclusion](#conclusion)\n",
    "  - [Assignments](#assignments)"
   ]
  },
  {
   "cell_type": "markdown",
   "metadata": {},
   "source": [
    "Ordered data structures, also called _sequences_, are ordered grouping of elements, each with their own index, which is a number that marks their place in the sequence.  Just like you learned with Strings (which are Python sequences), this indexing starts at 0.\n",
    "\n",
    "<img src=\"../GRAPHICS/python_index.png\" width=\"30%\">"
   ]
  },
  {
   "cell_type": "markdown",
   "metadata": {},
   "source": [
    "## Lists\n",
    "\n",
    "Lists are containers that hold objects in a given order. Lists are _mutable_, meaning they allow you to add, remove, or overwrite individual elements inside them. In Python, lists are wrapped in square brackets `[]`.  Unlike some languages, Python lists can contain mixed data types.\n"
   ]
  },
  {
   "cell_type": "markdown",
   "metadata": {},
   "source": [
    "### Creating Lists\n",
    "\n",
    "To initialize or create an empty list, Python has a built-in method `list()`, or you can use empty brackets."
   ]
  },
  {
   "cell_type": "code",
   "execution_count": 1,
   "metadata": {},
   "outputs": [
    {
     "data": {
      "text/plain": [
       "[]"
      ]
     },
     "execution_count": 1,
     "metadata": {},
     "output_type": "execute_result"
    }
   ],
   "source": [
    "my_list = list()\n",
    "my_list"
   ]
  },
  {
   "cell_type": "markdown",
   "metadata": {},
   "source": [
    "* Note: \"list\" is a Python built-in method name.  Like reserved words, they have a special use case right out of the box and are usually presented with a special text formatting in an IDE.  Unlike reserved words, they __CAN BE OVERWRITTEN__.  If you were to name a new list with just the name \"list\", you will overwrite the built-in method.\n",
    "\n",
    "  ```python\n",
    "  list = [1,2,3,4,5]\n",
    "\n",
    "  my_new_list = list()  # Will result in an error.\n",
    "  ```\n",
    "\n",
    "  If you find that you have written over a built-in Python function, you will need to restart the Python kernel."
   ]
  },
  {
   "cell_type": "code",
   "execution_count": 2,
   "metadata": {},
   "outputs": [
    {
     "data": {
      "text/plain": [
       "[]"
      ]
     },
     "execution_count": 2,
     "metadata": {},
     "output_type": "execute_result"
    }
   ],
   "source": [
    "my_other_list = []\n",
    "my_other_list"
   ]
  },
  {
   "cell_type": "markdown",
   "metadata": {},
   "source": [
    "You can also create a list with data, or elements, already inside.  You just need to wrap the items with the brackets and separate each item with a comma."
   ]
  },
  {
   "cell_type": "code",
   "execution_count": 3,
   "metadata": {},
   "outputs": [
    {
     "data": {
      "text/plain": [
       "[0, 1, 2, 3, 4, 5, 6, 7, 8, 9]"
      ]
     },
     "execution_count": 3,
     "metadata": {},
     "output_type": "execute_result"
    }
   ],
   "source": [
    "num_list = [0,1,2,3,4,5,6,7,8,9]\n",
    "num_list"
   ]
  },
  {
   "cell_type": "code",
   "execution_count": 4,
   "metadata": {},
   "outputs": [
    {
     "data": {
      "text/plain": [
       "['I', 'love', 'Python']"
      ]
     },
     "execution_count": 4,
     "metadata": {},
     "output_type": "execute_result"
    }
   ],
   "source": [
    "str_list = ['I', 'love', 'Python']\n",
    "str_list"
   ]
  },
  {
   "cell_type": "markdown",
   "metadata": {},
   "source": [
    "Lists can contain other collections, such as lists.  Lists stored inside of other lists are considered _nested lists_."
   ]
  },
  {
   "cell_type": "code",
   "execution_count": 6,
   "metadata": {},
   "outputs": [
    {
     "name": "stdout",
     "output_type": "stream",
     "text": [
      "['a', 'b', 'c', ['d', 'e', 'f']]\n",
      "4\n"
     ]
    }
   ],
   "source": [
    "list_with_lists = ['a', 'b', 'c', ['d', 'e', 'f']]\n",
    "print(list_with_lists)\n",
    "print(len(list_with_lists))"
   ]
  },
  {
   "cell_type": "markdown",
   "metadata": {},
   "source": [
    "### List Operations and Methods\n",
    "\n",
    "There are a number of methods (i.e. functions) that can be applied to lists.  \n",
    "\n",
    "Let's initialize a list of our \"bucket list\" travel locations and explore the various list operations and methods available to us."
   ]
  },
  {
   "cell_type": "code",
   "execution_count": null,
   "metadata": {},
   "outputs": [],
   "source": [
    "travel_bucket_list = ['New Zealand', \"Antarctica\", \"Italy\", \"Chile\", \"Fiji\", \"Ireland\", \"Morocco\"]\n",
    "print(travel_bucket_list)"
   ]
  },
  {
   "cell_type": "markdown",
   "metadata": {},
   "source": [
    "Like accessing individual elements in a string, you can add the square brackets after the list name to access individual elements in a list.  Unlike strings, however, you can also use an assignment operator (`=`) to overwrite the element at that location with a new value.\n",
    "\n",
    "| Syntax                 | Description                               |\n",
    "|:----------------------:|-------------------------------------------|\n",
    "| `list_variable[n]` |Accesses the item at index `[n]` |\n",
    "| `list_variable[n] = x` |Sets the item at index `[n]` to  `x` |\n",
    "\n",
    "Related to grabbing a single index, you can also slice python lists like youdid with strings.\n",
    "\n",
    "| Syntax                 | Description                               |\n",
    "|:----------------------:|-------------------------------------------|\n",
    "| `list_variable[start:stop]` |Accesses the sub-list from `start` index up to but not including `stop` |"
   ]
  },
  {
   "cell_type": "code",
   "execution_count": 17,
   "metadata": {},
   "outputs": [
    {
     "data": {
      "text/plain": [
       "['Fiji', 'Ireland']"
      ]
     },
     "execution_count": 17,
     "metadata": {},
     "output_type": "execute_result"
    }
   ],
   "source": [
    "travel_bucket_list = ['New Zealand', \"Antarctica\", \"Italy\", \"Chile\", \"Fiji\", \"Ireland\", \"Morocco\"]\n",
    "travel_bucket_list[4:6] # grabbing a single index\n"
   ]
  },
  {
   "cell_type": "code",
   "execution_count": 19,
   "metadata": {},
   "outputs": [
    {
     "data": {
      "text/plain": [
       "['Morocco', 'Ireland', 'Texas', 'Chile', 'Italy', 'Antarctica', 'New Zealand']"
      ]
     },
     "execution_count": 19,
     "metadata": {},
     "output_type": "execute_result"
    }
   ],
   "source": [
    "travel_bucket_list[::-1] # slicing a string"
   ]
  },
  {
   "cell_type": "code",
   "execution_count": 18,
   "metadata": {},
   "outputs": [
    {
     "data": {
      "text/plain": [
       "['New Zealand', 'Antarctica', 'Italy', 'Chile', 'Texas', 'Ireland', 'Morocco']"
      ]
     },
     "execution_count": 18,
     "metadata": {},
     "output_type": "execute_result"
    }
   ],
   "source": [
    "travel_bucket_list[4] = \"Texas\"\n",
    "travel_bucket_list"
   ]
  },
  {
   "cell_type": "markdown",
   "metadata": {},
   "source": [
    "#### List Operations\n",
    "\n",
    "List operations include checking the length of a list, checking membership (results in a boolean), or using loops to iterate and perform operations on each element."
   ]
  },
  {
   "cell_type": "code",
   "execution_count": null,
   "metadata": {},
   "outputs": [],
   "source": [
    "len(travel_bucket_list)"
   ]
  },
  {
   "cell_type": "code",
   "execution_count": 20,
   "metadata": {},
   "outputs": [
    {
     "name": "stdout",
     "output_type": "stream",
     "text": [
      "False\n",
      "True\n"
     ]
    }
   ],
   "source": [
    "print(\"Fiji\" in travel_bucket_list)\n",
    "print(\"Texas\" in travel_bucket_list)"
   ]
  },
  {
   "cell_type": "markdown",
   "metadata": {},
   "source": [
    "#### List Methods:\n",
    "\n",
    "| Method                | Description                               |\n",
    "|:----------------------:|-------------------------------------------|\n",
    "| `list.append(x)`| Add an item to the end of the list.|\n",
    "| `list.extend(iterable)`| Extend the list by appending elements from the iterable.|\n",
    "| `list.insert(i, x)`| Insert an item at a given position.|\n",
    "| `list.clear()`| Remove all items from the list.|\n",
    "| `list.index(x)`| Return the index of the first item with a specific value.|\n",
    "| `list.count(x)`| Return the number of times a specific value appears in the list.|\n",
    "| `list.sort()`| Sort the items of the list in place.|\n",
    "| `list.reverse()`| Reverse the elements of the list in place.|\n",
    "| `list.copy()`| Return a shallow copy of the list.|"
   ]
  },
  {
   "cell_type": "code",
   "execution_count": null,
   "metadata": {},
   "outputs": [],
   "source": [
    "travel_bucket_list.append(\"Germany\")\n",
    "travel_bucket_list"
   ]
  },
  {
   "cell_type": "code",
   "execution_count": null,
   "metadata": {},
   "outputs": [],
   "source": [
    "travel_bucket_list.extend([\"Argentina\", \"Thailand\", \"Australia\"])\n",
    "travel_bucket_list"
   ]
  },
  {
   "cell_type": "code",
   "execution_count": null,
   "metadata": {},
   "outputs": [],
   "source": [
    "travel_bucket_list.insert(0, \"Canada\")\n",
    "travel_bucket_list"
   ]
  },
  {
   "cell_type": "markdown",
   "metadata": {},
   "source": [
    "While the `.append()` method and `.extend()` method are very similar, they are also very different. Look at the examples below and note how the two work differently."
   ]
  },
  {
   "cell_type": "code",
   "execution_count": 21,
   "metadata": {},
   "outputs": [
    {
     "data": {
      "text/plain": [
       "['New Zealand',\n",
       " 'Antarctica',\n",
       " 'Italy',\n",
       " 'Chile',\n",
       " 'Texas',\n",
       " 'Ireland',\n",
       " 'Morocco',\n",
       " ['Peru', 'Dominican Republic']]"
      ]
     },
     "execution_count": 21,
     "metadata": {},
     "output_type": "execute_result"
    }
   ],
   "source": [
    "travel_bucket_list.append([\"Peru\", \"Dominican Republic\"])\n",
    "travel_bucket_list"
   ]
  },
  {
   "cell_type": "code",
   "execution_count": 22,
   "metadata": {},
   "outputs": [
    {
     "data": {
      "text/plain": [
       "['New Zealand',\n",
       " 'Antarctica',\n",
       " 'Italy',\n",
       " 'Chile',\n",
       " 'Texas',\n",
       " 'Ireland',\n",
       " 'Morocco',\n",
       " ['Peru', 'Dominican Republic'],\n",
       " 'J',\n",
       " 'a',\n",
       " 'p',\n",
       " 'a',\n",
       " 'n']"
      ]
     },
     "execution_count": 22,
     "metadata": {},
     "output_type": "execute_result"
    }
   ],
   "source": [
    "travel_bucket_list.extend(\"Japan\")\n",
    "travel_bucket_list"
   ]
  },
  {
   "cell_type": "markdown",
   "metadata": {},
   "source": [
    "As we see here, `.append()` will always add the argument to the list as a single item, even if your argument is a list of things. On the other hand, `.extend()` will always treat the argument as a sequence of things and try to add each individual item to the list."
   ]
  },
  {
   "cell_type": "markdown",
   "metadata": {},
   "source": [
    "The `.remove()` method searches a list for a value specified and removes the first instance of that value from the collection. The `.pop()` method also removes an item from the list. But instead of specifying a value, we have to give it an index location. Furthermore, `.pop()` removes the item but also _returns_ it, meaning that it is made available to be, for instance, stored in a variable.\n",
    "\n",
    "| Method               | Description                               |\n",
    "|:----------------------:|-------------------------------------------|\n",
    "|`list.remove(x)`          | Removes the first appearance of `x` in the list |\n",
    "|`list.pop(i)` | Removes the item at index `i` in the list and returns that item |"
   ]
  },
  {
   "cell_type": "markdown",
   "metadata": {},
   "source": [
    "Let's clean up the mistake we made above when using the `.extend()` method with a single item ('Japan'). We'll have to remove each letter one by one."
   ]
  },
  {
   "cell_type": "code",
   "execution_count": 23,
   "metadata": {},
   "outputs": [],
   "source": [
    "travel_bucket_list.remove('J')\n",
    "travel_bucket_list.remove('a') # Removes only the first entry so there will be another one\n",
    "travel_bucket_list.remove('p')\n",
    "travel_bucket_list.remove('n')"
   ]
  },
  {
   "cell_type": "code",
   "execution_count": 24,
   "metadata": {},
   "outputs": [
    {
     "data": {
      "text/plain": [
       "['New Zealand',\n",
       " 'Antarctica',\n",
       " 'Italy',\n",
       " 'Chile',\n",
       " 'Texas',\n",
       " 'Ireland',\n",
       " 'Morocco',\n",
       " ['Peru', 'Dominican Republic'],\n",
       " 'a']"
      ]
     },
     "execution_count": 24,
     "metadata": {},
     "output_type": "execute_result"
    }
   ],
   "source": [
    "travel_bucket_list"
   ]
  },
  {
   "cell_type": "code",
   "execution_count": 28,
   "metadata": {},
   "outputs": [
    {
     "data": {
      "text/plain": [
       "'This is my string'"
      ]
     },
     "execution_count": 28,
     "metadata": {},
     "output_type": "execute_result"
    }
   ],
   "source": [
    "my_string = 'This is my string.'\n",
    "my_string_without_punctuation = my_string[:-1]\n",
    "my_string_without_punctuation"
   ]
  },
  {
   "cell_type": "code",
   "execution_count": 26,
   "metadata": {},
   "outputs": [
    {
     "data": {
      "text/plain": [
       "['New Zealand',\n",
       " 'Antarctica',\n",
       " 'Italy',\n",
       " 'Chile',\n",
       " 'Texas',\n",
       " 'Ireland',\n",
       " 'Morocco',\n",
       " ['Peru', 'Dominican Republic']]"
      ]
     },
     "execution_count": 26,
     "metadata": {},
     "output_type": "execute_result"
    }
   ],
   "source": [
    "travel_bucket_list.remove('a')\n",
    "travel_bucket_list"
   ]
  },
  {
   "cell_type": "code",
   "execution_count": 29,
   "metadata": {},
   "outputs": [
    {
     "data": {
      "text/plain": [
       "['Peru', 'Dominican Republic']"
      ]
     },
     "execution_count": 29,
     "metadata": {},
     "output_type": "execute_result"
    }
   ],
   "source": [
    "spouse_bucket_item = travel_bucket_list.pop(-1) # removes and returns the last entry from list\n",
    "spouse_bucket_item"
   ]
  },
  {
   "cell_type": "code",
   "execution_count": 30,
   "metadata": {},
   "outputs": [
    {
     "data": {
      "text/plain": [
       "['New Zealand', 'Antarctica', 'Italy', 'Chile', 'Texas', 'Ireland', 'Morocco']"
      ]
     },
     "execution_count": 30,
     "metadata": {},
     "output_type": "execute_result"
    }
   ],
   "source": [
    "travel_bucket_list"
   ]
  },
  {
   "cell_type": "markdown",
   "metadata": {},
   "source": [
    "The `.index()` method searches a list for a given value, and returns the index position of the first instance of the value. If the value is not in the list, this method throws an error. The `.count()` method counts the number of times a value appears in a list.\n",
    "\n",
    "| Syntax               | Description                               |\n",
    "|:----------------------:|-------------------------------------------|\n",
    "|`list_variable.index(x)` | Returns the index where `x` first appears in the list; <br>Throws an error if `x` is not contained in the list |\n",
    "|`list_variable.count(x)`| Counts the number of times `x` appears in the list |"
   ]
  },
  {
   "cell_type": "code",
   "execution_count": 31,
   "metadata": {},
   "outputs": [
    {
     "data": {
      "text/plain": [
       "4"
      ]
     },
     "execution_count": 31,
     "metadata": {},
     "output_type": "execute_result"
    }
   ],
   "source": [
    "travel_bucket_list.index(\"Texas\")"
   ]
  },
  {
   "cell_type": "code",
   "execution_count": 32,
   "metadata": {},
   "outputs": [
    {
     "data": {
      "text/plain": [
       "1"
      ]
     },
     "execution_count": 32,
     "metadata": {},
     "output_type": "execute_result"
    }
   ],
   "source": [
    "travel_bucket_list.count(\"Texas\")"
   ]
  },
  {
   "cell_type": "markdown",
   "metadata": {},
   "source": [
    "The `sort()` method sorts a list.  It sorts in an ascending order by default.  You can pass in the `reverse=True` flag to sort in descending order.\n",
    "\n",
    "* Note: This method mutates the original list, so if the original order is important, please do not use this method.\n",
    "\n",
    "The `sorted()` method returns a copy of the sorted list that you can assign to a new variable but leaves the original list intact."
   ]
  },
  {
   "cell_type": "code",
   "execution_count": 33,
   "metadata": {},
   "outputs": [
    {
     "data": {
      "text/plain": [
       "['Texas', 'New Zealand', 'Morocco', 'Italy', 'Ireland', 'Chile', 'Antarctica']"
      ]
     },
     "execution_count": 33,
     "metadata": {},
     "output_type": "execute_result"
    }
   ],
   "source": [
    "travel_bucket_list.sort(reverse=True)\n",
    "travel_bucket_list"
   ]
  },
  {
   "cell_type": "code",
   "execution_count": 35,
   "metadata": {},
   "outputs": [
    {
     "data": {
      "text/plain": [
       "['Antarctica', 'Chile', 'Ireland', 'Italy', 'Morocco', 'New Zealand', 'Texas']"
      ]
     },
     "execution_count": 35,
     "metadata": {},
     "output_type": "execute_result"
    }
   ],
   "source": [
    "travel_bucket_list.sort()\n",
    "travel_bucket_list"
   ]
  },
  {
   "cell_type": "code",
   "execution_count": 36,
   "metadata": {},
   "outputs": [
    {
     "name": "stdout",
     "output_type": "stream",
     "text": [
      "['Antarctica', 'Chile', 'Ireland', 'Italy', 'Morocco', 'New Zealand', 'Texas']\n",
      "['Texas', 'New Zealand', 'Morocco', 'Italy', 'Ireland', 'Chile', 'Antarctica']\n"
     ]
    }
   ],
   "source": [
    "other_sorted_travel_bucket_list = sorted(travel_bucket_list, reverse=True)\n",
    "print(travel_bucket_list)\n",
    "print(other_sorted_travel_bucket_list)"
   ]
  },
  {
   "cell_type": "markdown",
   "metadata": {},
   "source": [
    "Exercise:\n",
    "\n",
    "Create your own list of places you want to travel. Use list methods to add them to the `travel_bucket_list`"
   ]
  },
  {
   "cell_type": "code",
   "execution_count": 66,
   "metadata": {},
   "outputs": [
    {
     "data": {
      "text/plain": [
       "['Texas',\n",
       " 'Taiwan',\n",
       " 'Rome',\n",
       " 'Mordor',\n",
       " 'Jupiter',\n",
       " 'Iceland',\n",
       " 'Hawaii',\n",
       " 'Fiji',\n",
       " 'Badlands']"
      ]
     },
     "execution_count": 66,
     "metadata": {},
     "output_type": "execute_result"
    }
   ],
   "source": [
    "## Your code goes here\n",
    "my_additions = ['Rome', 'Jupiter', 'Badlands', 'Mordor']\n",
    "# travel_bucket_list.extend(my_additions)\n",
    "# travel_bucket_list.extend([\"Hawaii\", \"Taiwan\", \"Iceland\"])\n",
    "# travel_bucket_list.append(\"Fiji\")\n",
    "travel_bucket_list.remove('Hawaii')\n",
    "# travel_bucket_list.sort(reverse=True)\n",
    "travel_bucket_list"
   ]
  },
  {
   "cell_type": "markdown",
   "metadata": {},
   "source": [
    "## Tuples"
   ]
  },
  {
   "cell_type": "markdown",
   "metadata": {},
   "source": [
    "### Creating Tuples\n",
    "\n",
    "Tuples are ordered collections, similar to lists, but are _immutable_.  They are denoted with parentheses instead of square brackets.  Like all immutable objects, you cannot add, subtract, or edit items in place.  To change data in a tuple, you must overwrite the entire structure.  This attribute makes tuples great for data that stays static, such as days of the week or coordinate pairs."
   ]
  },
  {
   "cell_type": "markdown",
   "metadata": {},
   "source": [
    "### Tuple Operations\n",
    "\n",
    "Since tuples are ordered collections like lists, some operations will work with tuples as they will with lists(iteration, checking length, checking membership).\n"
   ]
  },
  {
   "cell_type": "code",
   "execution_count": 69,
   "metadata": {},
   "outputs": [
    {
     "name": "stdout",
     "output_type": "stream",
     "text": [
      "(3, 4)\n",
      "2\n",
      "False\n"
     ]
    }
   ],
   "source": [
    "coordinates = (3, 4)\n",
    "print(coordinates)\n",
    "length = len(coordinates)  # Result: 2\n",
    "print(length)\n",
    "is_five_present = 5 in coordinates  # Result: False\n",
    "print(is_five_present)"
   ]
  },
  {
   "cell_type": "markdown",
   "metadata": {},
   "source": [
    "Here are some examples of methods that work with tuples."
   ]
  },
  {
   "cell_type": "code",
   "execution_count": null,
   "metadata": {},
   "outputs": [],
   "source": [
    "my_tuple = (1,4,3,8,45,234,5,45,346,678,23,4,2,99,100)\n",
    "\n",
    "print(min(my_tuple))\n",
    "print(max(my_tuple))\n",
    "print(sum(my_tuple))"
   ]
  },
  {
   "cell_type": "markdown",
   "metadata": {},
   "source": [
    "Other methods that we find with lists that change the order of elements, or alter the elements in any way, will not work with tuples.  the list method `sort()`, while useful for lists, will not work with tuples because they re-order the elements.  In the example below, you can see that the `sort()` method is not highlighting as you would see with a list."
   ]
  },
  {
   "cell_type": "code",
   "execution_count": null,
   "metadata": {},
   "outputs": [],
   "source": [
    "my_tuple.count(5)"
   ]
  },
  {
   "cell_type": "markdown",
   "metadata": {},
   "source": [
    "### Conclusion\n",
    "\n",
    "In this lecture, you've explored the capabilities and limitations of Python lists and tuples. Lists are mutable and offer extensive methods for manipulation, making them suitable for dynamic collections. Tuples, on the other hand, are immutable and provide security for data that should not change. Understanding when and how to use each structure is crucial in Python programming.\n",
    "\n",
    "Remember to practice and apply these concepts in your Python projects to become proficient in working with lists and tuples."
   ]
  },
  {
   "cell_type": "markdown",
   "metadata": {},
   "source": [
    "### Assignments\n",
    "\n",
    "- [Doubles](https://replit.com/@cpadmin/Doubles#main.py)\n",
    "- [Traveler](https://replit.com/@cpadmin/Traveler#main.py)\n",
    "- [Museum](https://replit.com/@cpadmin/Museum#main.py)\n"
   ]
  },
  {
   "cell_type": "code",
   "execution_count": null,
   "metadata": {},
   "outputs": [],
   "source": [
    "# You will be given a list consisting of unique elements except for one thing that appears twice.\n",
    "\n",
    "# Your task is to output a list of everything inbetween both occurrences of this element in the list.\n",
    "\n",
    "def doubles(lst):\n",
    "  index = 0\n",
    "  for item in lst:\n",
    "    if lst.count(item) == 2:\n",
    "        first_duplicate = lst.index(item)    \n",
    "        break\n",
    "\n",
    "  second_duplicate = lst.index(item, first_duplicate + 1)\n",
    "  print(lst[first_duplicate+1:second_duplicate])\n",
    "  return lst[first_duplicate + 1:second_duplicate]\n",
    "\n",
    "\n",
    "print(doubles([0, 1, 2, 3, 4, 5, 6, 1, 7, 8]) == [2, 3, 4, 5, 6])\n",
    "print(\n",
    "    doubles(['None', 'Hello', 'Example', 'hello', 'None', 'Extra']) ==\n",
    "    ['Hello', 'Example', 'hello'])\n",
    "[0, 0] == []\n",
    "print(doubles([True, False, True]) == [False])\n",
    "print(\n",
    "    doubles(['e', 'x', 'a', 'm', 'p', 'l', 'e']) == ['x', 'a', 'm', 'p', 'l'])"
   ]
  },
  {
   "cell_type": "code",
   "execution_count": null,
   "metadata": {},
   "outputs": [],
   "source": [
    "# Lucy loves to travel. Luckily she is a renowned computer scientist and gets to travel to international conferences using her department's budget.\n",
    "\n",
    "# Each year, Society for Exciting Computer Science Research (SECSR) organizes several conferences around the world. Lucy always picks one conference from that list that is hosted in a city she hasn't been to before, and if that leaves her with more than one option, she picks the conference that she thinks would be most relevant for her field of research.\n",
    "\n",
    "# Write a function conferencePicker that takes in two arguments:\n",
    "\n",
    "# citiesVisited, a list of cities that Lucy has visited before, given as an array of strings.\n",
    "# citiesOffered, a list of cities that will host SECSR conferences this year, given as an array of strings. citiesOffered will already be ordered in terms of the relevance of the conferences for Lucy's research (from the most to the least relevant).\n",
    "# The function should return the city that Lucy should visit, as a string.\n",
    "\n",
    "# Also note:\n",
    "\n",
    "# You should allow for the possibility that Lucy hasn't visited any city before.\n",
    "# SECSR organizes at least two conferences each year.\n",
    "# If all of the offered conferences are hosted in cities that Lucy has visited before, the function should return 'No worthwhile conferences this year!' (Nothing in Haskell)\n",
    "\n",
    "\n",
    "def conference_picker(cities_visited, cities_offered):\n",
    "  # create a variable for the cities that are offered that she hasn't visited\n",
    "  cities_not_visited = []\n",
    "# create a loop that iterates through the cities_offered list and checks if the city is in cities_visited\n",
    "  for city in cities_offered:\n",
    "# if the city is not in cities_visited, append it to the cities_not_visited list\n",
    "    if city not in cities_visited:\n",
    "         cities_not_visited.append(city)\n",
    "# if the length of the cities_not_visited list is greater than 0, return the first city in the\n",
    "  if len(cities_not_visited) > 0:\n",
    "       return cities_not_visited[0]\n",
    "# if the length of the cities_not_visited list is 0, return 'No worthwhile conferences this year!'\n",
    "  else:\n",
    "       return 'No worthwhile conferences this year!'\n",
    "\n",
    "print(\n",
    "    conference_picker([], ['Philadelphia', 'Osaka', 'Tokyo', 'Melbourne']) ==\n",
    "    'Philadelphia')\n",
    "print(conference_picker([], ['Brussels', 'Madrid', 'London']) == 'Brussels')\n",
    "print(conference_picker([], ['Sydney', 'Tokyo']) == 'Sydney')\n",
    "print(\n",
    "    conference_picker([\n",
    "        'London', 'Berlin', 'Mexico City', 'Melbourne', 'Buenos Aires',\n",
    "        'Hong Kong', 'Madrid', 'Paris'\n",
    "    ], ['Berlin', 'Melbourne']) == 'No worthwhile conferences this year!')\n",
    "print(\n",
    "    conference_picker([\n",
    "        'Beijing', 'Johannesburg', 'Sydney', 'Philadelphia', 'Hong Kong',\n",
    "        'Stockholm', 'Chicago', 'Seoul', 'Mexico City', 'Berlin'\n",
    "    ], ['Stockholm', 'Berlin', 'Chicago']) ==\n",
    "    'No worthwhile conferences this year!')\n",
    "print(\n",
    "    conference_picker(['Rome'], ['Rome']) ==\n",
    "    'No worthwhile conferences this year!')\n",
    "print(conference_picker(['Milan'], ['London']) == 'London')\n",
    "print(\n",
    "    conference_picker([\n",
    "        'Mexico City', 'Dubai', 'Philadelphia', 'Madrid', 'Houston', 'Chicago',\n",
    "        'Delhi', 'Seoul', 'Mumbai', 'Lisbon', 'Hong Kong', 'Brisbane',\n",
    "        'Stockholm', 'Tokyo', 'San Francisco', 'Rio De Janeiro'\n",
    "    ], ['Lisbon', 'Mexico City']) == 'No worthwhile conferences this year!')\n",
    "print(\n",
    "    conference_picker([\n",
    "        \"Gatlantis\", \"Baldur's Gate\", \"Gotham City\", \"Mystara\", \"Washinkyo\",\n",
    "        \"Central City\"\n",
    "    ], [\n",
    "        \"Mystara\", \"Gatlantis\", \"MegaTokyo\", \"Genosha\", \"Central City\",\n",
    "        \"Washinkyo\", \"Gotham City\", \"King's Landing\", \"Waterdeep\"\n",
    "    ]) == 'MegaTokyo')\n",
    "print(\n",
    "    conference_picker([\"Thay\", \"Camelot\"], [\"Waterdeep\", \"Washinkyo\"]) ==\n",
    "    'Waterdeep')\n"
   ]
  },
  {
   "cell_type": "code",
   "execution_count": null,
   "metadata": {},
   "outputs": [],
   "source": [
    "# The museum of incredibly dull things\n",
    "# The museum of incredibly dull things wants to get rid of some exhibitions. Miriam, the interior architect, comes up with a plan to remove the most boring exhibitions. She gives them a rating, and then removes the one with the lowest rating.\n",
    "\n",
    "# However, just as she finished rating all exhibitions, she's off to an important fair, so she asks you to write a program that tells her the ratings of the items after one removed the lowest one. Fair enough.\n",
    "\n",
    "# Task\n",
    "# Given an array of integers, remove the smallest value. Do not mutate the original array/list. If there are multiple elements with the same value, remove the one with a lower index. If you get an empty array/list, return an empty array/list.\n",
    "\n",
    "# Don't change the order of the elements that are left.\n",
    "# numbers = [1, 2, 3, 4, 5]\n",
    "\n",
    "def remove_smallest(numbers):\n",
    "  # if the list is empty then return the empty list\n",
    "  if len(numbers) == 0:\n",
    "      return numbers\n",
    "  # create a variable to store the lowest rating\n",
    "  else:\n",
    "    lowest_rating = numbers[0]\n",
    "  # loop through the list of numbers\n",
    "  for i, num in enumerate(numbers):\n",
    "  # compare the current element with the next element and if \n",
    "  # it is less than the next then assign it to the lowest_rating variable\n",
    "    if numbers[i] < numbers[i-1] and numbers[i] <= lowest_rating:\n",
    "      lowest_rating = numbers[i]\n",
    "      print(lowest_rating)\n",
    "  # use the built in method to find index of the lowest_rating\n",
    "  index_of_lowest_rating = numbers.index(lowest_rating)\n",
    "  # then remove the lowest_rating from the numbers list and return the list\n",
    "  numbers.remove(numbers[index_of_lowest_rating])\n",
    "  return numbers\n",
    "  \n",
    "print(remove_smallest([1, 2, 3, 4, 5]) == [2, 3, 4, 5])\n",
    "print(remove_smallest([5, 3, 2, 1, 4]) == [5, 3, 2, 4])\n",
    "print(remove_smallest([1, 2, 3, 1, 1]) == [2, 3, 1, 1])\n",
    "print(remove_smallest([]) == [])\n"
   ]
  }
 ],
 "metadata": {
  "kernelspec": {
   "display_name": "Python 3",
   "language": "python",
   "name": "python3"
  },
  "language_info": {
   "codemirror_mode": {
    "name": "ipython",
    "version": 3
   },
   "file_extension": ".py",
   "mimetype": "text/x-python",
   "name": "python",
   "nbconvert_exporter": "python",
   "pygments_lexer": "ipython3",
   "version": "3.11.5"
  }
 },
 "nbformat": 4,
 "nbformat_minor": 2
}
