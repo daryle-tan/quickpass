{
 "cells": [
  {
   "cell_type": "markdown",
   "metadata": {},
   "source": [
    "# Python Conditional Statements, Truthy/Falsy Logic & Functions <a id=\"title\"></a>\n",
    "\n",
    "## Introduction\n",
    "\n",
    "Welcome to Day 2 of Quick Pass! Today, we'll explore conditional statements, which ties with truthy & falsy logic.  We will also dive into the world of functions, which are the basic building blocks of clean, maintainable code. Let's get started!"
   ]
  },
  {
   "cell_type": "markdown",
   "metadata": {},
   "source": [
    "## Table of Contents\n",
    "\n",
    "- [Python Conditional Statements, Truthy/Falsy Logic & Functions](#title)\n",
    "  - [Introduction](#introduction)\n",
    "  - [Table of Contents](#table-of-contents)\n",
    "    - [Boolean Values and Expressions](#boolean-values-and-expressions)\n",
    "      - [Comparison Operators](#comparison-operators)\n",
    "      - [Membership Checks](#membership-checks)\n",
    "      - [Logical Operators](#logical-operators)\n",
    "      - [If statements](#if-statements)\n",
    "    - [Python Functions](#python-functions)\n",
    "      - [Function Scope](#function-scope)\n",
    "      - [When to Use Print Statements](#when-to-use-print)\n",
    "    - [Conclusion](#conclusion)\n",
    "    - [Assignments](#assignments)"
   ]
  },
  {
   "cell_type": "markdown",
   "metadata": {},
   "source": [
    "### Boolean Values and Expressions\n",
    "\n",
    "* [Python: Boolean Values](https://docs.python.org/3/library/stdtypes.html)\n",
    "* [Python: Truth-Value Testing](https://docs.python.org/3/library/stdtypes.html#truth-value-testing)\n",
    "* [Wikipedia: Boolean Data Type](https://en.wikipedia.org/wiki/Boolean_data_type#:~:text=In%20computer%20science%2C%20the%20Boolean,in%20the%20mid%2019th%20century.)\n",
    "\n",
    "A Boolean can only be one of two values: `True` or `False`.  These values can be explicitly defined or defined as the result of an expression. Any Python object can be included in a Boolean expression.  For example, if the variable `x` was assigned the value of `35`, then the expression `x > 40` (i.e. is `x` greater than `40`?) would evaluate to `False`.  \n",
    "\n",
    "Comparing and contrasting values agains others is very important in computer programming.   It allows programs to execute, or not execute, a task based on a condition.  You can think of Booleans as your program's way of responding to yes-or-no questions. Can you think of an instance when you would need to ask your program a question, and execute different commands based on its answer?\n",
    "\n",
    "In our code cells, you will see words `True` and `False` always show up in special colors and bold because they are reserved words. Remember that each reserved word has a specific purpose in Python code and cannot be used for any other purpose."
   ]
  },
  {
   "cell_type": "code",
   "execution_count": null,
   "metadata": {},
   "outputs": [],
   "source": [
    "type(True)"
   ]
  },
  {
   "cell_type": "markdown",
   "metadata": {},
   "source": [
    "Booleans can be assigned to variables."
   ]
  },
  {
   "cell_type": "code",
   "execution_count": null,
   "metadata": {},
   "outputs": [],
   "source": [
    "the_boolean = False\n",
    "the_boolean"
   ]
  },
  {
   "cell_type": "markdown",
   "metadata": {},
   "source": [
    "One thing to remember is that the `True` and `False` booleans are capitalized.  `true` and `false` don't mean anything to the Python interpreter because Python is case-sensitive.  In the example below, you will get a `NameError` because `false` hasn't been defined as a variable name yet (and would not be an ideal choice for a variable name in most circumstances)."
   ]
  },
  {
   "cell_type": "code",
   "execution_count": null,
   "metadata": {},
   "outputs": [],
   "source": [
    "type(false)"
   ]
  },
  {
   "cell_type": "markdown",
   "metadata": {},
   "source": [
    "#### Comparison Operators\n",
    "\n",
    "Booleam vales can be created with _boolean expressions_.  There are many types of boolean expressions and the first type we will present are comparisons.\n",
    "\n",
    "Comparison operators are used to form a boolean expression.\n",
    "\n",
    "| Operator  | Operation                |\n",
    "| :-------: | :----------------------- |\n",
    "| `==`        | equal to                 |\n",
    "| `!=`        | not equal to             |\n",
    "| `>`         | greater than             |\n",
    "| `>=`        | greater than or equal to |\n",
    "| `<`         | less than                |\n",
    "| `<=`        | less than or equal to    |\n",
    "\n",
    "Check out the examples below:"
   ]
  },
  {
   "cell_type": "code",
   "execution_count": null,
   "metadata": {},
   "outputs": [],
   "source": [
    "23 == 32"
   ]
  },
  {
   "cell_type": "code",
   "execution_count": null,
   "metadata": {},
   "outputs": [],
   "source": [
    "boolean_1 = 450 < 350\n",
    "boolean_1"
   ]
  },
  {
   "cell_type": "code",
   "execution_count": null,
   "metadata": {},
   "outputs": [],
   "source": [
    "num_1 = 8\n",
    "num_2 = 6\n",
    "\n",
    "num_1 > num_2"
   ]
  },
  {
   "cell_type": "markdown",
   "metadata": {},
   "source": [
    "#### Membership Checks\n",
    "\n",
    "Membership operators are used for a membership check. We check for membership sequences or collections such as Python lists (or strings).\n",
    "\n",
    "| Operator | Operation                                                            |\n",
    "| :------: | :------------------------------------------------------------------- |\n",
    "| `in`       | Checks if the left side of expression contained in the right side of expression |\n",
    "| `not in`   | Checks if the left side of expression is not contained in the right side of expression |"
   ]
  },
  {
   "cell_type": "code",
   "execution_count": null,
   "metadata": {},
   "outputs": [],
   "source": [
    "stl_blizzard_years = [1883, 1889, 1890, 1893, 1897, 1900, 1905, 1907, 1913, 1914, 1921, 1923, 1934, 1940, 1942, 1943, 1944, 1948, 1950, 1952, 1953, 1956, 1957, 1961, 1963, 1965, 1966, 1976, 1978, 1990, 1994, 1996, 2007, 2008, 2010, 2015, 2018, 2019, 2020, 2021]\n",
    "\n",
    "2017 in stl_blizzard_years"
   ]
  },
  {
   "cell_type": "markdown",
   "metadata": {},
   "source": [
    "#### Logical Operators\n",
    "\n",
    "Boolean expressions can also be combined to form other Boolean expressions. The `and`, `or` and `not` keywords are called logical operators and they are used to combine Boolean expressions.\n",
    "\n",
    "| Operator  | Operation                |\n",
    "| :-------: | :----------------------- |\n",
    "| `and`    | Checks if two statements are _both_ True |\n",
    "| `or`    | Checks if _either_ of two statements are True |\n",
    "| `not` | Negates the value of a boolean statement |\n",
    "\n",
    "The logical operators work like they do in plain language. For example, the statement \"I have a black dog <u>and</u> I have a brown dog\" is only true if I have both a black and a brown dog.  However, the statement \"I have a black dog <u>or</u> I have a brown dog\" is true if I have a dog of either color."
   ]
  },
  {
   "cell_type": "code",
   "execution_count": null,
   "metadata": {},
   "outputs": [],
   "source": [
    "10 > 8 and 23 < 25"
   ]
  },
  {
   "cell_type": "code",
   "execution_count": null,
   "metadata": {},
   "outputs": [],
   "source": [
    "9 in [2,3,4,5] or 'W' in '123.4545W'"
   ]
  },
  {
   "cell_type": "code",
   "execution_count": null,
   "metadata": {},
   "outputs": [],
   "source": [
    "boolean_2 = not (4 != 5)\n",
    "boolean_2"
   ]
  },
  {
   "cell_type": "markdown",
   "metadata": {},
   "source": [
    "While it is easy to read a logical operator like we would speak it, there is a big limitation.  You need to have a _COMPLETE_ boolean expression on either side of the operator for it to evaluate correctly. Consider this example:"
   ]
  },
  {
   "cell_type": "code",
   "execution_count": null,
   "metadata": {},
   "outputs": [],
   "source": [
    "print(2014 and 2018 in stl_blizzard_years)\n",
    "print(stl_blizzard_years)"
   ]
  },
  {
   "cell_type": "code",
   "execution_count": null,
   "metadata": {},
   "outputs": [],
   "source": [
    "0 == False"
   ]
  },
  {
   "cell_type": "code",
   "execution_count": null,
   "metadata": {},
   "outputs": [],
   "source": [
    "print(2014 in stl_blizzard_years)\n",
    "print(2018 in stl_blizzard_years)\n",
    "\n"
   ]
  },
  {
   "cell_type": "markdown",
   "metadata": {},
   "source": [
    "As you can see, we, as people, would evaluate the top statement as false (if we were to scan the list of blizzard years in St. Louis and see that 2014 was NOT included), but Python evaluates the statement as `True`.  We didnt get an error so this could be dangerous logic if we were making further programmatic decisions upon the outcome of this evaluation."
   ]
  },
  {
   "cell_type": "code",
   "execution_count": null,
   "metadata": {},
   "outputs": [],
   "source": [
    "# Correct logical operator statement:\n",
    "\n",
    "2014 in stl_blizzard_years and 2018 in stl_blizzard_years"
   ]
  },
  {
   "cell_type": "markdown",
   "metadata": {},
   "source": [
    "#### If Statements\n",
    "\n",
    "* [Python: The if statement](https://docs.python.org/3/tutorial/controlflow.html)\n",
    "* [TutorialsPoint: Python IF...ELIF...ELSE Statements](https://www.tutorialspoint.com/python/python_if_else.htm) \n",
    "\n",
    "Sometimes when we're writing code, we want to execute certain lines only under certain conditions. We hinted at this when we introduced Boolean values, saying that that's how your code responds to yes-or-no questions. Now we are going to learn the proper way to evaluate yes-or-no questions in Python."
   ]
  },
  {
   "cell_type": "markdown",
   "metadata": {},
   "source": [
    "The `if` statement is used in Python to make decisions. After the `if` keyword, we must always put a Boolean expression and then a colon (`:`). If the Boolean expression after the `if` is true, Python will execute the code indented under the `if`, then skip to the end of the `if` block. If the condition is false, Python will move on to the next statement in the block."
   ]
  },
  {
   "cell_type": "code",
   "execution_count": null,
   "metadata": {},
   "outputs": [],
   "source": [
    "\n",
    "temperature = 70\n",
    "\n",
    "if temperature < 32:\n",
    "    if temperature < 10:\n",
    "        print(\"It's dangerously cold outside!!!\")\n",
    "    print('It is literally freezing outside! Stay inside with jammies and hot cocoa.')  \n",
    "elif temperature < 55:\n",
    "    print('Layer up and stay warm.')  \n",
    "else:\n",
    "    print('Looks to be a nice day!')\n"
   ]
  },
  {
   "cell_type": "markdown",
   "metadata": {},
   "source": [
    "You will typically see logic trees constructed like the one above; starting with `if`, then `elif` (short for 'else if'), and a final catch-all, `else`, for anything not evaluated as `True` with the previous blocks.  As you see in the example above, the code will only arrive to a single solution, which is what we want, but consider this code:"
   ]
  },
  {
   "cell_type": "code",
   "execution_count": null,
   "metadata": {},
   "outputs": [],
   "source": [
    "temperature = -60\n",
    "\n",
    "if temperature < 32:\n",
    "    print('It is literally freezing outside! Stay inside with jammies and hot cocoa.')  \n",
    "elif temperature < 55:  \n",
    "    print('Layer up and stay warm.')  \n",
    "else:\n",
    "    print('Looks to be a nice day!')"
   ]
  },
  {
   "cell_type": "markdown",
   "metadata": {},
   "source": [
    "Would this code work?  It would, but not as you'd expect.  This logic tree would result in the incorrect response (outside of our intent) when the script runs.  We would never hit the `elif` block because the `if` block would evaluate `True` to ANY temperature below 55.  It is important to utilize programmatic thinking and imagine how the code is evaluated in Python.  You would want to start with the most restrictive condition to evaluate `True` higher up in your conditional logic flow.\n",
    "\n",
    "* Note: `if` statements do not require the other conditionals to follow if not needed.  Sometimes you want a conditional to evaluate a special step only if the conditional is true and still run the rest of the code afterwards."
   ]
  },
  {
   "cell_type": "markdown",
   "metadata": {},
   "source": [
    "### Python Functions\n",
    "\n",
    "Understanding functions is one of the most important skills to understand with any programming language.  Functions provide the basic structure for the operation of a code base.  Think about how a program like Microsoft Word works.  Everything you do on the application has an associated function. Every single button click, cursor movement, highlight action, font change, etc. has code dedicated to its operation.\n",
    "\n",
    "The utility of functions is that they are reusable.  When you write a function, you are establishing _HOW_ the computer takes an input and comes to an output.  You are just putting that process together using the foundational toolbox you learn here and packaging that process into a neat, reusable, box.  In fact, one of those big tools is the conditional logic.  Conditional logic is a big part of the _HOW_ of getting a result.  Consider this function that was introduced in lesson 1:\n",
    "\n",
    "```python\n",
    "# Function DEFINED here\n",
    "def find_name(target_name, input_data):\n",
    "    present = False\n",
    "    name_location = input_data.find(target_name)\n",
    "    if name_location != -1:\n",
    "        present = True\n",
    "    return present\n",
    "\n",
    "long_string_of_data = \"Jim Wallace, Bill Smith, Frank Scott, Deborah Randall, Willie Nelson, Kevin Zhang, Reah Nelson, Beth Doran, Aaron Wood, Chance Rooney, Jamal Freeman, Ron Swanson\"\n",
    "\n",
    "# Function CALLED here\n",
    "find_name(\"Aaron Wood\", long_string_of_data)\n",
    "```\n"
   ]
  },
  {
   "cell_type": "markdown",
   "metadata": {},
   "source": [
    "The inner workings of a function will usually contain the conditional logic to get to a result.  Everything indented under the first line of the function is the inner workings"
   ]
  },
  {
   "cell_type": "markdown",
   "metadata": {},
   "source": [
    "To properly call a function, you must supply the correct number of parameters that the function expects.  if you don't (or don't define a function with _default_ parameters), you will receive a `TypeError` explaining that you supplied the wrong number of arguments."
   ]
  },
  {
   "cell_type": "code",
   "execution_count": null,
   "metadata": {},
   "outputs": [],
   "source": [
    "# Function DEFINED here\n",
    "def find_name(target_name, input_data):\n",
    "    present = False\n",
    "    name_location = input_data.find(target_name)\n",
    "    if name_location != -1:\n",
    "        return True\n",
    "    else:\n",
    "        return False\n",
    "\n",
    "long_string_of_data = \"Jim Wallace, Bill Smith, Frank Scott, Deborah Randall, Willie Nelson, Kevin Zhang, Reah Nelson, Beth Doran, Aaron Wood, Chance Rooney, Jamal Freeman, Ron Swanson\"\n",
    "# Function CALLED here\n",
    "print(find_name(\"Aaron Wood\", long_string_of_data))\n",
    "print(find_name(\"Bill Smith\", long_string_of_data))\n",
    "print(find_name(\"Bill Smith\", long_string_of_data))\n"
   ]
  },
  {
   "cell_type": "code",
   "execution_count": null,
   "metadata": {},
   "outputs": [],
   "source": [
    "\n",
    "\n",
    "long_string_of_data = \"Jim Wallace, Bill Smith, Frank Scott, Deborah Randall, Willie Nelson, Kevin Zhang, Reah Nelson, Beth Doran, Aaron Wood, Chance Rooney, Jamal Freeman, Ron Swanson\"\n",
    "target_name = \"Frank SCott\"\n",
    "data_list = long_string_of_data.split(',')\n",
    "\n",
    "for name in data_list:\n",
    "    name = name.strip().lower()\n",
    "    if target_name.lower() == name:\n",
    "        print(\"present\")\n",
    "\n",
    "for i, name in enumerate(data_list):\n",
    "    "
   ]
  },
  {
   "cell_type": "markdown",
   "metadata": {},
   "source": [
    "The `return` statement is used to specify the value that a function should return. It's optional, and a function can return nothing (i.e., `None`) if `return` is omitted."
   ]
  },
  {
   "cell_type": "code",
   "execution_count": null,
   "metadata": {},
   "outputs": [],
   "source": [
    "def multiply(a, b):\n",
    "    return a * b\n",
    "\n",
    "result = multiply(4, 3)\n",
    "print(result)  # Output: 12"
   ]
  },
  {
   "cell_type": "markdown",
   "metadata": {},
   "source": [
    "In this example, the `multiply` function returns the product of `a` and `b`."
   ]
  },
  {
   "cell_type": "markdown",
   "metadata": {},
   "source": [
    "#### Function Scope\n",
    "\n",
    "Like mentioned before, you can think of a function as a little mini-program that takes something in, does something with it, and gives a result(in most cases).  Once you have a function that provides the output you want, you do not have to think about what happens inside of the function.  In fact, what happens inside of a function is limited to staying inside."
   ]
  },
  {
   "cell_type": "code",
   "execution_count": null,
   "metadata": {},
   "outputs": [],
   "source": [
    "my_number = 5 \n",
    "my_other_number = 6\n",
    "my_operation = '-'\n",
    "\n",
    "unused_variable = 1000\n",
    "\n",
    "# function DEFINED here\n",
    "def number_processor(num_1, num_2, operation):\n",
    "    unused_variable = 999\n",
    "    # print(\"unused variable inside the function: \", unused_variable)\n",
    "    # num_1 = 9\n",
    "    # num_2 = 25\n",
    "    if operation == \"+\":\n",
    "        result = num_1 + num_2\n",
    "    elif operation == \"-\":\n",
    "        result = num_1 - num_2\n",
    "    elif operation == '/':\n",
    "        result = num_1 / num_2\n",
    "    else:\n",
    "        result = num_1 * num_2\n",
    "    return result\n",
    "\n",
    "print(f\"This is the result of number_processor on {my_number} {my_operation} {my_other_number}: \")\n",
    "# Function CALLED here and result printed out\n",
    "print(number_processor(my_number, my_other_number, my_operation), \"\\n\")\n",
    "\n",
    "print(my_number)\n",
    "print(my_other_number)\n",
    "print(\"Unused variable after function has run: \", unused_variable)"
   ]
  },
  {
   "cell_type": "markdown",
   "metadata": {},
   "source": [
    "Now, this is a useless function as the input parameters are being completely redefined to static values, but it is illustrating the fact that you can change the variable _INSIDE_ the function and it is unchanged outside.\n",
    "\n",
    "Conversely, anything defined _inside_ the function is only accessible inside."
   ]
  },
  {
   "cell_type": "code",
   "execution_count": null,
   "metadata": {},
   "outputs": [],
   "source": [
    "def my_function():\n",
    "    x = 10\n",
    "    print(\"Printed inside function: \", x)\n",
    "\n",
    "my_function()\n",
    "print(x)  # This will raise an error"
   ]
  },
  {
   "cell_type": "markdown",
   "metadata": {},
   "source": [
    "In this case, `x` is a local variable, and attempting to print it outside the function scope will result in an error."
   ]
  },
  {
   "cell_type": "markdown",
   "metadata": {},
   "source": [
    "#### When to Use `print` Statements <a id=\"when-to-use-print\"></a>\n",
    "\n",
    "While functions are designed to encapsulate logic and produce results, you might need to use `print` statements within functions for debugging purposes or to provide visual feedback. It's common to print intermediate results or diagnostic information while developing and testing code."
   ]
  },
  {
   "cell_type": "code",
   "execution_count": null,
   "metadata": {},
   "outputs": [],
   "source": [
    "def complex_calculation(x, y):\n",
    "    product = x * y\n",
    "    print(f\"Intermediate result: {product}\")\n",
    "    product = abs(product)\n",
    "    print(f\"result after the other step: {product}\")\n",
    "    if product < 55:\n",
    "        result = \"Does not meet threshold.\"\n",
    "    else:\n",
    "        result = \"Meets Threshold\"\n",
    "    return result\n",
    "\n",
    "complex_calculation(-2, 30)"
   ]
  },
  {
   "cell_type": "markdown",
   "metadata": {},
   "source": [
    "In this example, the `print` statement helps monitor the progress of the `complex_calculation` function."
   ]
  },
  {
   "cell_type": "markdown",
   "metadata": {},
   "source": [
    "Exercise\n",
    "\n",
    "Write your own function that determines what letter grade prints out when called with a numeric grade as a parameter.\n",
    "\n",
    "i.e.\n",
    "\n",
    "`letter_grade(75)` returns \"C\" \\\n",
    "`letter_grade(96)` returns \"A\"\n",
    "\n",
    "* Remember to define the function first, then call it"
   ]
  },
  {
   "cell_type": "code",
   "execution_count": 4,
   "metadata": {},
   "outputs": [
    {
     "name": "stdout",
     "output_type": "stream",
     "text": [
      "C\n"
     ]
    }
   ],
   "source": [
    "### Your code goes here\n",
    "def letter_grade(grade):\n",
    "    if grade >= 90:\n",
    "        return \"A\"\n",
    "    elif grade >= 80 and grade < 90:\n",
    "        return \"B\"\n",
    "    elif grade >= 70 and grade < 80:\n",
    "        return \"C\"\n",
    "    elif grade >= 60 and grade < 70:\n",
    "        return \"D\"\n",
    "    else:\n",
    "        return \"F\"\n",
    "    \n",
    "print(letter_grade(72))"
   ]
  },
  {
   "cell_type": "markdown",
   "metadata": {},
   "source": [
    "Functions in Python are powerful tools for organizing and reusing code. Whether you need to define functions with multiple parameters, nest functions, manage variable scope, or control the output using `return` and `print`, understanding how to use functions effectively is crucial for building complex and maintainable programs."
   ]
  },
  {
   "cell_type": "markdown",
   "metadata": {},
   "source": [
    "### 4. Conclusion\n",
    "\n",
    "Today, we dove into conditional statements, which include comparison operators, membership checks, and logical operators.  Additionally, you've seen how to create and call functions in Python.  Keep practicing these key concepts to master Python!"
   ]
  },
  {
   "cell_type": "markdown",
   "metadata": {},
   "source": [
    "### Assignments\n",
    "\n",
    "- [Truthy and Falsy](https://replit.com/@cpadmin/truthyfalsy#main.py)\n",
    "- [Conditional Flow](https://replit.com/@cpadmin/Conditional-Flow#main.py)"
   ]
  }
 ],
 "metadata": {
  "kernelspec": {
   "display_name": "Python 3",
   "language": "python",
   "name": "python3"
  },
  "language_info": {
   "codemirror_mode": {
    "name": "ipython",
    "version": 3
   },
   "file_extension": ".py",
   "mimetype": "text/x-python",
   "name": "python",
   "nbconvert_exporter": "python",
   "pygments_lexer": "ipython3",
   "version": "3.11.5"
  }
 },
 "nbformat": 4,
 "nbformat_minor": 2
}
