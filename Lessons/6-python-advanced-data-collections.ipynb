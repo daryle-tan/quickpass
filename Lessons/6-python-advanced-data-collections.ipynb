{
 "cells": [
  {
   "cell_type": "markdown",
   "metadata": {},
   "source": [
    "# Advanced Data Collections (n-dimensional collections) <a id=\"title\"></a>\n",
    "\n",
    "## Introduction\n",
    "\n",
    "Welcome to the final lecture in QuickPass:  Advanced Data Collections!  In this lecture, we are going to explore multi-dimensional data collections, mainly n-dimensional lists, and how to access and manipulate the data they contain."
   ]
  },
  {
   "cell_type": "markdown",
   "metadata": {},
   "source": [
    "## Table of Contents\n",
    "\n",
    "- [Advanced Data Collections](#title)\n",
    "  - [Introduction](#introduction)\n",
    "  - [Table of Contents](#table-of-contents)\n",
    "  - [Data Collection Review](#data-collection-review)\n",
    "  - [Multi-Dimensional Data Structures](#multi-dimensional-data-structures)\n",
    "    - [2-Dimensional Lists](#2-dimensional-lists)\n",
    "    - [3-Dimensional Lists](#3-dimensional-lists)\n",
    "    - [Adding and Removing Elements](#adding-and-removing-elements)\n",
    "    - [Replacing Rows and Columns](#replacing-rows-and-columns)\n",
    "    - [Other Nested Data Structures](#other-nested-data-structures)\n",
    "\n",
    "  - [Code Examples and Practice](#code-examples-and-practice)\n",
    "    - [Modifying a Seating Chart](#modifying-a-seating-chart)\n",
    "    - [Adding Rows and Columns](#creating-copies-and-avoiding-mutable-object-issues)\n",
    "  - [Practical Applications of 2-Dimensional Lists](#practical-applications-of-2-dimensional-lists)\n",
    "  - [Conclusion](#conclusion)"
   ]
  },
  {
   "cell_type": "markdown",
   "metadata": {},
   "source": [
    "## Data Collection Review (Lists)\n",
    "\n",
    "\n",
    "- A list is a collection of values that can be of different types (integers, strings, etc.).\n",
    "- Lists are ordered and indexed, which means each element has a position and can be accessed with bracket notation `[]`\n",
    "- Indexes start at `[0]` when going forward in a list, and start at `[-1]` when going backwards."
   ]
  },
  {
   "cell_type": "code",
   "execution_count": 1,
   "metadata": {},
   "outputs": [
    {
     "name": "stdout",
     "output_type": "stream",
     "text": [
      "1\n",
      "5\n"
     ]
    }
   ],
   "source": [
    "my_list = [1,2,3,4,5]\n",
    "print(my_list[0]) # Returns 1\n",
    "print(my_list[-1]) # Returns 5"
   ]
  },
  {
   "cell_type": "markdown",
   "metadata": {},
   "source": [
    "## Multi-Dimensional Data Structures"
   ]
  },
  {
   "cell_type": "markdown",
   "metadata": {},
   "source": [
    "### 2-Dimensional Lists\n",
    "\n",
    "A 2-dimensional list is a list of lists.  It's like having rows and columns of data.  Nested lists still use bracket notation to access data, but we have to add more indexes to access single data points.  We still use bracket notation, but just more of them to go through the dimensions.  Take a look at the example below:\n"
   ]
  },
  {
   "cell_type": "code",
   "execution_count": 2,
   "metadata": {},
   "outputs": [],
   "source": [
    "# neatly formatted for a visual to see rows and columns\n",
    "my_matrix = [\n",
    "    [1, 2, 3],\n",
    "    [4, 5, 6],\n",
    "    [7, 8, 9]\n",
    "]"
   ]
  },
  {
   "cell_type": "markdown",
   "metadata": {},
   "source": [
    "In `my_matrix`, a single bracket index will return an entire list.  "
   ]
  },
  {
   "cell_type": "code",
   "execution_count": 3,
   "metadata": {},
   "outputs": [
    {
     "data": {
      "text/plain": [
       "[7, 8, 9]"
      ]
     },
     "execution_count": 3,
     "metadata": {},
     "output_type": "execute_result"
    }
   ],
   "source": [
    "my_matrix[-1] # returns [7, 8, 9]\n"
   ]
  },
  {
   "cell_type": "markdown",
   "metadata": {},
   "source": [
    "To access a single data point, we need to add another bracket with the index of the data point we desire (again, starting at `0` for forward indexes).\n",
    "\n",
    "To access the `8`, we would need to enter `my_matrix[2][1]`"
   ]
  },
  {
   "cell_type": "code",
   "execution_count": 4,
   "metadata": {},
   "outputs": [
    {
     "data": {
      "text/plain": [
       "8"
      ]
     },
     "execution_count": 4,
     "metadata": {},
     "output_type": "execute_result"
    }
   ],
   "source": [
    "my_matrix[2][1]"
   ]
  },
  {
   "cell_type": "markdown",
   "metadata": {},
   "source": [
    "Also, because lists in Python are mutable, we can change values in-place using the assignment operator, adding brackets as we increase dimensions.  Lets change the `5` to a `500`."
   ]
  },
  {
   "cell_type": "code",
   "execution_count": 5,
   "metadata": {},
   "outputs": [
    {
     "data": {
      "text/plain": [
       "[[1, 2, 3], [4, 500, 6], [7, 8, 9]]"
      ]
     },
     "execution_count": 5,
     "metadata": {},
     "output_type": "execute_result"
    }
   ],
   "source": [
    "my_matrix[1][1] = 500\n",
    "my_matrix"
   ]
  },
  {
   "cell_type": "markdown",
   "metadata": {},
   "source": [
    "As we know, lists are iterable which means that we can loop over them.  How can we loop over a 2-dimensional list?  Just like with indexing, we can add a layer to our loops by _nesting_ a `for` loop inside of a `for` loop."
   ]
  },
  {
   "cell_type": "code",
   "execution_count": 6,
   "metadata": {},
   "outputs": [
    {
     "name": "stdout",
     "output_type": "stream",
     "text": [
      "1\n",
      "2\n",
      "3\n",
      "4\n",
      "500\n",
      "6\n",
      "7\n",
      "8\n",
      "9\n"
     ]
    }
   ],
   "source": [
    "for row in my_matrix:\n",
    "    for item in row:\n",
    "        print(item)"
   ]
  },
  {
   "cell_type": "markdown",
   "metadata": {},
   "source": [
    "### 3-Dimensional Lists\n",
    "\n",
    "Going up in dimensions, we just add another layer to our data.  At this point, keeping track of the dimensions in this format can be a bit daunting. See the example below:"
   ]
  },
  {
   "cell_type": "code",
   "execution_count": 7,
   "metadata": {},
   "outputs": [],
   "source": [
    "my_three_dim_list = [[[1,2,3], [4,5,6], [7,8,9]], [[10,11,12], [13,14,15], [16,17,18]], [[19,20,21], [22,23,24], [25,26,27]]]  # this example is limited to one line and can be harder to read\n"
   ]
  },
  {
   "cell_type": "markdown",
   "metadata": {},
   "source": [
    "How would you return the value `24`?  In this case, we would just need to add more brackets to our bracket notation."
   ]
  },
  {
   "cell_type": "code",
   "execution_count": 8,
   "metadata": {},
   "outputs": [
    {
     "data": {
      "text/plain": [
       "24"
      ]
     },
     "execution_count": 8,
     "metadata": {},
     "output_type": "execute_result"
    }
   ],
   "source": [
    "my_three_dim_list[2][1][2]"
   ]
  },
  {
   "cell_type": "markdown",
   "metadata": {},
   "source": [
    "How could we loop through this data and print out what we need?  We just need to add another layer to our nesting!\n",
    "\n",
    "<img src=\"../GRAPHICS/rubiks.png\" width=\"10%\">\n",
    "\n",
    "Think of the structure as a Rubik's Cube.  There are 3 layers, each containing rows and columns.\n",
    "\n",
    "1. The outer loop is going to iterate over the layers one by one. It will run 3 times.\n",
    "2. For each iteration of the outer loop, the middle loop iterates over every row of the layer. It will run a total of 9 times\n",
    "3. The innermost loop iterates over every item for each iteration of the middle loop.  It will run a total of 27 times\n",
    "\n"
   ]
  },
  {
   "cell_type": "code",
   "execution_count": 9,
   "metadata": {},
   "outputs": [
    {
     "name": "stdout",
     "output_type": "stream",
     "text": [
      "1\n",
      "2\n",
      "3\n",
      "4\n",
      "5\n",
      "6\n",
      "7\n",
      "8\n",
      "9\n",
      "10\n",
      "11\n",
      "12\n",
      "13\n",
      "14\n",
      "15\n",
      "16\n",
      "17\n",
      "18\n",
      "19\n",
      "20\n",
      "21\n",
      "22\n",
      "23\n",
      "24\n",
      "25\n",
      "26\n",
      "27\n"
     ]
    }
   ],
   "source": [
    "for layer in my_three_dim_list:\n",
    "    for row in layer:\n",
    "        for item in row:\n",
    "            print(item)"
   ]
  },
  {
   "cell_type": "markdown",
   "metadata": {},
   "source": [
    "### Adding and Removing Elements\n",
    "\n",
    "You can add elements using `append()`, `extend()`, or `insert()`.\n",
    "You can remove elements using `remove()`, `pop()`, or `del`."
   ]
  },
  {
   "cell_type": "code",
   "execution_count": 10,
   "metadata": {},
   "outputs": [],
   "source": [
    "my_matrix = [\n",
    "    [1, 2, 3],\n",
    "    [4, 5, 6],\n",
    "    [7, 8, 9]\n",
    "]"
   ]
  },
  {
   "cell_type": "code",
   "execution_count": 11,
   "metadata": {},
   "outputs": [
    {
     "data": {
      "text/plain": [
       "[[1, 2, 3], [4, 5, 6], [7, 8, 9], [400, 500, 600]]"
      ]
     },
     "execution_count": 11,
     "metadata": {},
     "output_type": "execute_result"
    }
   ],
   "source": [
    "my_matrix.append([400, 500, 600])\n",
    "my_matrix"
   ]
  },
  {
   "cell_type": "markdown",
   "metadata": {},
   "source": [
    "### Replacing Rows and Columns\n",
    "\n",
    "To replace a row, simply assign a new list to the row index.\n",
    "To replace a column, use a `for` loop to iterate through rows and change elements."
   ]
  },
  {
   "cell_type": "code",
   "execution_count": 12,
   "metadata": {},
   "outputs": [
    {
     "data": {
      "text/plain": [
       "[[1, 2, 3], [4, 5, 6], [7, 8, 9], [10, 11, 12]]"
      ]
     },
     "execution_count": 12,
     "metadata": {},
     "output_type": "execute_result"
    }
   ],
   "source": [
    "my_matrix[-1] = [10, 11, 12]\n",
    "my_matrix"
   ]
  },
  {
   "cell_type": "code",
   "execution_count": 13,
   "metadata": {},
   "outputs": [
    {
     "data": {
      "text/plain": [
       "[[1, 200, 3], [4, 500, 6], [7, 800, 9], [10, 1100, 12]]"
      ]
     },
     "execution_count": 13,
     "metadata": {},
     "output_type": "execute_result"
    }
   ],
   "source": [
    "for i in range(len(my_matrix)):\n",
    "    for index, item in enumerate(my_matrix[i]):\n",
    "        if index == 1:\n",
    "            my_matrix[i][index] = item * 100\n",
    "my_matrix"
   ]
  },
  {
   "cell_type": "markdown",
   "metadata": {},
   "source": [
    "### Other Nested Data Structures\n",
    "\n",
    "While we typically represent n-dimensional data with nested lists (also called nested arrays), we can nest other data structures into each other depending on the use case.  Would it be useful to nest a list as a value in a dictionary?"
   ]
  },
  {
   "cell_type": "code",
   "execution_count": 14,
   "metadata": {},
   "outputs": [
    {
     "data": {
      "text/plain": [
       "'salut'"
      ]
     },
     "execution_count": 14,
     "metadata": {},
     "output_type": "execute_result"
    }
   ],
   "source": [
    "english_french_dictionary = {\"hello\": \"bonjour\"}\n",
    "\n",
    "english_french_dictionary['hello'] = ['bonjour', 'salut']\n",
    "english_french_dictionary\n",
    "\n",
    "english_french_dictionary['hello'][1]"
   ]
  },
  {
   "cell_type": "markdown",
   "metadata": {},
   "source": [
    "The school has a data structure that contains all personnel associated with students (Teachers, parents, and students).  Having access to only the parent info, how could you find out their childrens' names?"
   ]
  },
  {
   "cell_type": "code",
   "execution_count": 15,
   "metadata": {},
   "outputs": [],
   "source": [
    "school_dictionary = {\n",
    "    \"person_12345\" : {\n",
    "        'first_name': \"Jim\",\n",
    "        'last_name': 'Smith',\n",
    "        'suffix': 'Sr.',\n",
    "        'student': False,\n",
    "        'teacher': False,\n",
    "        'email': 'jsmith@gmail.com',\n",
    "        'class':[],\n",
    "        'children': ['person_94523', 'person_23456', 'person_34567'],\n",
    "        'phone': '452-672-6777',\n",
    "        'guardian': True,\n",
    "    },\n",
    "    'person_94523': {\n",
    "        'first_name': \"Jimmy\",\n",
    "        'last_name': 'Smith',\n",
    "        'suffix': 'Jr.',\n",
    "        'student': True,\n",
    "        'teacher': False,\n",
    "        'email': 'N/A',\n",
    "        'class':[],\n",
    "        'children': 'N/A',\n",
    "        'phone': 'N/A',\n",
    "        'guardian': False,\n",
    "    },\n",
    "    'person_23456': {\n",
    "        'first_name': \"Kelly\",\n",
    "        'last_name': 'Smith',\n",
    "        'suffix': 'N/A',\n",
    "        'student': True,\n",
    "        'teacher': False,\n",
    "        'email': 'N/A',\n",
    "        'class':[],\n",
    "        'children': 'N/A',\n",
    "        'phone': 'N/A',\n",
    "        'guardian': False,\n",
    "    },\n",
    "    'person_87554': {\n",
    "        'first_name': \"Jorge\",\n",
    "        'last_name': 'Gonzalez',\n",
    "        'suffix': 'N/A',\n",
    "        'student': True,\n",
    "        'teacher': False,\n",
    "        'email': 'N/A',\n",
    "        'class':[],\n",
    "        'children': 'N/A',\n",
    "        'phone': 'N/A',\n",
    "        'guardian': False,\n",
    "    },\n",
    "    'person_34567': {\n",
    "        'first_name': \"Robert\",\n",
    "        'last_name': 'Smith',\n",
    "        'suffix': 'N/A',\n",
    "        'student': True,\n",
    "        'teacher': \"person_56566\",\n",
    "        'email': 'N/A',\n",
    "        'class':[],\n",
    "        'children': 'N/A',\n",
    "        'phone': 'N/A',\n",
    "        'guardian': False,\n",
    "    },\n",
    "    'person_56566': {\n",
    "        'first_name': \"Gertrude\",\n",
    "        'last_name': 'Brown',\n",
    "        'suffix': '',\n",
    "        'student': False,\n",
    "        'teacher': True,\n",
    "        'email': 'N/A',\n",
    "        'class':['person_34567', 'person_95959', 'person_67234', 'person_94111', 'person_87554'],\n",
    "        'children': 'N/A',\n",
    "        'phone': '567-654-6543',\n",
    "        'guardian': False,\n",
    "    }\n",
    "}"
   ]
  },
  {
   "cell_type": "code",
   "execution_count": 17,
   "metadata": {},
   "outputs": [
    {
     "data": {
      "text/plain": [
       "['Jimmy Smith', 'Kelly Smith', 'Robert Smith']"
      ]
     },
     "execution_count": 17,
     "metadata": {},
     "output_type": "execute_result"
    }
   ],
   "source": [
    "# names = []\n",
    "\n",
    "# for child in school_dictionary['person_12345']['children']:\n",
    "#     names.append(f\"{school_dictionary[child]['first_name']} {school_dictionary[child]['last_name']}\")\n",
    "\n",
    "# print(names)\n",
    "names = []\n",
    "for k, v in school_dictionary.items():\n",
    "    if v['children'] != \"N/A\":\n",
    "        for child in school_dictionary[k]['children']:\n",
    "            names.append(f\"{school_dictionary[child]['first_name']} {school_dictionary[child]['last_name']}\")\n",
    "    else:\n",
    "        continue\n",
    "names"
   ]
  },
  {
   "cell_type": "code",
   "execution_count": 18,
   "metadata": {},
   "outputs": [
    {
     "data": {
      "text/plain": [
       "['Gertrude Brown']"
      ]
     },
     "execution_count": 18,
     "metadata": {},
     "output_type": "execute_result"
    }
   ],
   "source": [
    "teachers = []\n",
    "\n",
    "for k, v in school_dictionary.items():\n",
    "    if v['teacher'] == True:\n",
    "        teachers.append(f'{v[\"first_name\"]} {v[\"last_name\"]}')\n",
    "\n",
    "teachers"
   ]
  },
  {
   "cell_type": "code",
   "execution_count": 19,
   "metadata": {},
   "outputs": [
    {
     "name": "stdout",
     "output_type": "stream",
     "text": [
      "1\n",
      "2\n",
      "3\n",
      "4\n",
      "5\n",
      "6\n",
      "7\n",
      "8\n",
      "9\n",
      "10\n",
      "11\n",
      "12\n",
      "13\n",
      "14\n",
      "15\n",
      "16\n",
      "17\n",
      "18\n",
      "19\n",
      "20\n",
      "22\n"
     ]
    }
   ],
   "source": [
    "my_list = [[[1,2,3], [4,5,6], [7,8,9]], [[10, 11, 12], [13, 14, 15]], [[16, 17, 18], [19, 20, 22]]]\n",
    "\n",
    "for layer in my_list:\n",
    "    for row in layer:\n",
    "        for item in row:\n",
    "            print(item)\n"
   ]
  },
  {
   "cell_type": "markdown",
   "metadata": {},
   "source": [
    "## Code Examples and Practice"
   ]
  },
  {
   "cell_type": "markdown",
   "metadata": {},
   "source": [
    "### Modifying a Seating Chart\n",
    "\n",
    "Let's say you have a seating chart for a theater, and you need to update a reserved seat.\n",
    "\n",
    "```python\n",
    "seating_chart = [\n",
    "    [\"A\", \"B\", \"C\", \"D\"],\n",
    "    [\"E\", \"F\", \"G\", \"H\"],\n",
    "    [\"I\", \"J\", \"K\", \"L\"]\n",
    "]\n",
    "\n",
    "# Someone reserved seat \"F\" (row 2, seat 2). Let's update it.\n",
    "seating_chart[1][1] = \"X\"\n",
    "```"
   ]
  },
  {
   "cell_type": "code",
   "execution_count": 20,
   "metadata": {},
   "outputs": [
    {
     "data": {
      "text/plain": [
       "[['A', 'B', 'C', 'D'], ['E', 'X', 'G', 'H'], ['I', 'J', 'K', 'L']]"
      ]
     },
     "execution_count": 20,
     "metadata": {},
     "output_type": "execute_result"
    }
   ],
   "source": [
    "seating_chart = [\n",
    "    [\"A\", \"B\", \"C\", \"D\"],\n",
    "    [\"E\", \"F\", \"G\", \"H\"],\n",
    "    [\"I\", \"J\", \"K\", \"L\"]\n",
    "]\n",
    "\n",
    "# Someone reserved seat \"F\" (row 2, seat 2). Let's update it.\n",
    "seating_chart[1][1] = \"X\"\n",
    "seating_chart"
   ]
  },
  {
   "cell_type": "markdown",
   "metadata": {},
   "source": [
    "### Adding Rows and Columns\n",
    "\n",
    "You have a sales dataset, and you want to add a new salesperson's data.\n"
   ]
  },
  {
   "cell_type": "code",
   "execution_count": 21,
   "metadata": {},
   "outputs": [
    {
     "data": {
      "text/plain": [
       "[['Name', 'Jan', 'Feb', 'Mar'],\n",
       " ['Alice', 100, 120, 90],\n",
       " ['Bob', 80, 85, 90],\n",
       " ['Charlie', 110, 95, 105]]"
      ]
     },
     "execution_count": 21,
     "metadata": {},
     "output_type": "execute_result"
    }
   ],
   "source": [
    "sales_data = [\n",
    "    [\"Name\", \"Jan\", \"Feb\", \"Mar\"],\n",
    "    [\"Alice\", 100, 120, 90],\n",
    "    [\"Bob\", 80, 85, 90]\n",
    "]\n",
    "\n",
    "# Adding a new row for \"Charlie.\"\n",
    "new_salesperson = [\"Charlie\", 110, 95, 105]\n",
    "sales_data.append(new_salesperson)\n",
    "sales_data\n",
    "\n"
   ]
  },
  {
   "cell_type": "code",
   "execution_count": 22,
   "metadata": {},
   "outputs": [
    {
     "data": {
      "text/plain": [
       "[['Name', 'Jan', 'Feb', 'Mar', 0],\n",
       " ['Alice', 100, 120, 90, 0],\n",
       " ['Bob', 80, 85, 90, 0],\n",
       " ['Charlie', 110, 95, 105, 0]]"
      ]
     },
     "execution_count": 22,
     "metadata": {},
     "output_type": "execute_result"
    }
   ],
   "source": [
    "# Adding a new column for \"Apr.\"\n",
    "for i in range(len(sales_data)):\n",
    "    sales_data[i].append(0)  # Initial value for April.\n",
    "\n",
    "sales_data"
   ]
  },
  {
   "cell_type": "markdown",
   "metadata": {},
   "source": [
    "### Practical Applications of n-Dimensional Lists\n",
    "\n",
    "- 2-dimensional lists are essential for organizing data tables, images, games, and more.\n",
    "- 3-dimensional data structures are used in several geospatial, data science, and machine-learning applications"
   ]
  },
  {
   "cell_type": "markdown",
   "metadata": {},
   "source": [
    "Understanding how to work with nested data is an important skill to develop as you learn programming fundamentals.  Luckily, there are python libraries that are designed to take the complications of n-dimensional data structures and provide more efficient ways to manipulate the data and save processing energy.  A couple examples of those libraries are:\n",
    "\n",
    "- [Numpy](https://numpy.org/) - Specialized data analysis library for working with n-dimensional data\n",
    "- [Pandas](https://pandas.pydata.org/) - Python library used for working with data sets."
   ]
  },
  {
   "cell_type": "markdown",
   "metadata": {},
   "source": [
    "## Conclusion\n",
    "\n",
    "In this lecture, you've explored the fundamentals of working with multi-dimensional data structures in Python.  Practice is the key to mastering this skill, so continue to work with these and all other python data structures to grow your knowledge."
   ]
  }
 ],
 "metadata": {
  "kernelspec": {
   "display_name": "Python 3",
   "language": "python",
   "name": "python3"
  },
  "language_info": {
   "codemirror_mode": {
    "name": "ipython",
    "version": 3
   },
   "file_extension": ".py",
   "mimetype": "text/x-python",
   "name": "python",
   "nbconvert_exporter": "python",
   "pygments_lexer": "ipython3",
   "version": "3.11.5"
  }
 },
 "nbformat": 4,
 "nbformat_minor": 2
}
